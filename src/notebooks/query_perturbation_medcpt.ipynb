{
 "cells": [
  {
   "cell_type": "code",
   "execution_count": 1,
   "id": "7984acbf-dc16-489e-89ca-b5e2a0b00ebe",
   "metadata": {},
   "outputs": [
    {
     "name": "stdout",
     "output_type": "stream",
     "text": [
      "Requirement already satisfied: transformers==4.48.3 in /usr/local/lib/python3.11/dist-packages (4.48.3)\n",
      "Requirement already satisfied: filelock in /usr/local/lib/python3.11/dist-packages (from transformers==4.48.3) (3.13.1)\n",
      "Requirement already satisfied: huggingface-hub<1.0,>=0.24.0 in /usr/local/lib/python3.11/dist-packages (from transformers==4.48.3) (0.29.3)\n",
      "Requirement already satisfied: numpy>=1.17 in /usr/local/lib/python3.11/dist-packages (from transformers==4.48.3) (1.26.3)\n",
      "Requirement already satisfied: packaging>=20.0 in /usr/local/lib/python3.11/dist-packages (from transformers==4.48.3) (24.1)\n",
      "Requirement already satisfied: pyyaml>=5.1 in /usr/local/lib/python3.11/dist-packages (from transformers==4.48.3) (6.0.2)\n",
      "Requirement already satisfied: regex!=2019.12.17 in /usr/local/lib/python3.11/dist-packages (from transformers==4.48.3) (2024.11.6)\n",
      "Requirement already satisfied: requests in /usr/local/lib/python3.11/dist-packages (from transformers==4.48.3) (2.32.3)\n",
      "Requirement already satisfied: tokenizers<0.22,>=0.21 in /usr/local/lib/python3.11/dist-packages (from transformers==4.48.3) (0.21.1)\n",
      "Requirement already satisfied: safetensors>=0.4.1 in /usr/local/lib/python3.11/dist-packages (from transformers==4.48.3) (0.5.3)\n",
      "Requirement already satisfied: tqdm>=4.27 in /usr/local/lib/python3.11/dist-packages (from transformers==4.48.3) (4.67.1)\n",
      "Requirement already satisfied: fsspec>=2023.5.0 in /usr/local/lib/python3.11/dist-packages (from huggingface-hub<1.0,>=0.24.0->transformers==4.48.3) (2024.2.0)\n",
      "Requirement already satisfied: typing-extensions>=3.7.4.3 in /usr/local/lib/python3.11/dist-packages (from huggingface-hub<1.0,>=0.24.0->transformers==4.48.3) (4.9.0)\n",
      "Requirement already satisfied: charset-normalizer<4,>=2 in /usr/local/lib/python3.11/dist-packages (from requests->transformers==4.48.3) (3.3.2)\n",
      "Requirement already satisfied: idna<4,>=2.5 in /usr/local/lib/python3.11/dist-packages (from requests->transformers==4.48.3) (3.10)\n",
      "Requirement already satisfied: urllib3<3,>=1.21.1 in /usr/local/lib/python3.11/dist-packages (from requests->transformers==4.48.3) (2.2.3)\n",
      "Requirement already satisfied: certifi>=2017.4.17 in /usr/local/lib/python3.11/dist-packages (from requests->transformers==4.48.3) (2024.8.30)\n",
      "\u001b[33mWARNING: Running pip as the 'root' user can result in broken permissions and conflicting behaviour with the system package manager, possibly rendering your system unusable.It is recommended to use a virtual environment instead: https://pip.pypa.io/warnings/venv. Use the --root-user-action option if you know what you are doing and want to suppress this warning.\u001b[0m\u001b[33m\n",
      "\u001b[0m\n",
      "\u001b[1m[\u001b[0m\u001b[34;49mnotice\u001b[0m\u001b[1;39;49m]\u001b[0m\u001b[39;49m A new release of pip is available: \u001b[0m\u001b[31;49m24.2\u001b[0m\u001b[39;49m -> \u001b[0m\u001b[32;49m25.0.1\u001b[0m\n",
      "\u001b[1m[\u001b[0m\u001b[34;49mnotice\u001b[0m\u001b[1;39;49m]\u001b[0m\u001b[39;49m To update, run: \u001b[0m\u001b[32;49mpython -m pip install --upgrade pip\u001b[0m\n"
     ]
    }
   ],
   "source": [
    "! pip3 install transformers=='4.48.3'"
   ]
  },
  {
   "cell_type": "code",
   "execution_count": 2,
   "id": "06cc1cfc-202e-470c-b3e5-761f7d01dd61",
   "metadata": {},
   "outputs": [
    {
     "name": "stdout",
     "output_type": "stream",
     "text": [
      "Requirement already satisfied: beir==2.0.0 in /usr/local/lib/python3.11/dist-packages (2.0.0)\n",
      "Requirement already satisfied: sentence-transformers in /usr/local/lib/python3.11/dist-packages (from beir==2.0.0) (3.4.1)\n",
      "Requirement already satisfied: pytrec-eval in /usr/local/lib/python3.11/dist-packages (from beir==2.0.0) (0.5)\n",
      "Requirement already satisfied: faiss-cpu in /usr/local/lib/python3.11/dist-packages (from beir==2.0.0) (1.10.0)\n",
      "Requirement already satisfied: elasticsearch==7.9.1 in /usr/local/lib/python3.11/dist-packages (from beir==2.0.0) (7.9.1)\n",
      "Requirement already satisfied: datasets in /usr/local/lib/python3.11/dist-packages (from beir==2.0.0) (3.4.1)\n",
      "Requirement already satisfied: urllib3>=1.21.1 in /usr/local/lib/python3.11/dist-packages (from elasticsearch==7.9.1->beir==2.0.0) (2.2.3)\n",
      "Requirement already satisfied: certifi in /usr/local/lib/python3.11/dist-packages (from elasticsearch==7.9.1->beir==2.0.0) (2024.8.30)\n",
      "Requirement already satisfied: filelock in /usr/local/lib/python3.11/dist-packages (from datasets->beir==2.0.0) (3.13.1)\n",
      "Requirement already satisfied: numpy>=1.17 in /usr/local/lib/python3.11/dist-packages (from datasets->beir==2.0.0) (1.26.3)\n",
      "Requirement already satisfied: pyarrow>=15.0.0 in /usr/local/lib/python3.11/dist-packages (from datasets->beir==2.0.0) (19.0.1)\n",
      "Requirement already satisfied: dill<0.3.9,>=0.3.0 in /usr/local/lib/python3.11/dist-packages (from datasets->beir==2.0.0) (0.3.8)\n",
      "Requirement already satisfied: pandas in /usr/local/lib/python3.11/dist-packages (from datasets->beir==2.0.0) (2.2.3)\n",
      "Requirement already satisfied: requests>=2.32.2 in /usr/local/lib/python3.11/dist-packages (from datasets->beir==2.0.0) (2.32.3)\n",
      "Requirement already satisfied: tqdm>=4.66.3 in /usr/local/lib/python3.11/dist-packages (from datasets->beir==2.0.0) (4.67.1)\n",
      "Requirement already satisfied: xxhash in /usr/local/lib/python3.11/dist-packages (from datasets->beir==2.0.0) (3.5.0)\n",
      "Requirement already satisfied: multiprocess<0.70.17 in /usr/local/lib/python3.11/dist-packages (from datasets->beir==2.0.0) (0.70.16)\n",
      "Requirement already satisfied: fsspec<=2024.12.0,>=2023.1.0 in /usr/local/lib/python3.11/dist-packages (from fsspec[http]<=2024.12.0,>=2023.1.0->datasets->beir==2.0.0) (2024.2.0)\n",
      "Requirement already satisfied: aiohttp in /usr/local/lib/python3.11/dist-packages (from datasets->beir==2.0.0) (3.11.14)\n",
      "Requirement already satisfied: huggingface-hub>=0.24.0 in /usr/local/lib/python3.11/dist-packages (from datasets->beir==2.0.0) (0.29.3)\n",
      "Requirement already satisfied: packaging in /usr/local/lib/python3.11/dist-packages (from datasets->beir==2.0.0) (24.1)\n",
      "Requirement already satisfied: pyyaml>=5.1 in /usr/local/lib/python3.11/dist-packages (from datasets->beir==2.0.0) (6.0.2)\n",
      "Requirement already satisfied: transformers<5.0.0,>=4.41.0 in /usr/local/lib/python3.11/dist-packages (from sentence-transformers->beir==2.0.0) (4.48.3)\n",
      "Requirement already satisfied: torch>=1.11.0 in /usr/local/lib/python3.11/dist-packages (from sentence-transformers->beir==2.0.0) (2.4.1+cu124)\n",
      "Requirement already satisfied: scikit-learn in /usr/local/lib/python3.11/dist-packages (from sentence-transformers->beir==2.0.0) (1.6.1)\n",
      "Requirement already satisfied: scipy in /usr/local/lib/python3.11/dist-packages (from sentence-transformers->beir==2.0.0) (1.15.2)\n",
      "Requirement already satisfied: Pillow in /usr/local/lib/python3.11/dist-packages (from sentence-transformers->beir==2.0.0) (10.2.0)\n",
      "Requirement already satisfied: aiohappyeyeballs>=2.3.0 in /usr/local/lib/python3.11/dist-packages (from aiohttp->datasets->beir==2.0.0) (2.6.1)\n",
      "Requirement already satisfied: aiosignal>=1.1.2 in /usr/local/lib/python3.11/dist-packages (from aiohttp->datasets->beir==2.0.0) (1.3.2)\n",
      "Requirement already satisfied: attrs>=17.3.0 in /usr/local/lib/python3.11/dist-packages (from aiohttp->datasets->beir==2.0.0) (24.2.0)\n",
      "Requirement already satisfied: frozenlist>=1.1.1 in /usr/local/lib/python3.11/dist-packages (from aiohttp->datasets->beir==2.0.0) (1.5.0)\n",
      "Requirement already satisfied: multidict<7.0,>=4.5 in /usr/local/lib/python3.11/dist-packages (from aiohttp->datasets->beir==2.0.0) (6.2.0)\n",
      "Requirement already satisfied: propcache>=0.2.0 in /usr/local/lib/python3.11/dist-packages (from aiohttp->datasets->beir==2.0.0) (0.3.0)\n",
      "Requirement already satisfied: yarl<2.0,>=1.17.0 in /usr/local/lib/python3.11/dist-packages (from aiohttp->datasets->beir==2.0.0) (1.18.3)\n",
      "Requirement already satisfied: typing-extensions>=3.7.4.3 in /usr/local/lib/python3.11/dist-packages (from huggingface-hub>=0.24.0->datasets->beir==2.0.0) (4.9.0)\n",
      "Requirement already satisfied: charset-normalizer<4,>=2 in /usr/local/lib/python3.11/dist-packages (from requests>=2.32.2->datasets->beir==2.0.0) (3.3.2)\n",
      "Requirement already satisfied: idna<4,>=2.5 in /usr/local/lib/python3.11/dist-packages (from requests>=2.32.2->datasets->beir==2.0.0) (3.10)\n",
      "Requirement already satisfied: sympy in /usr/local/lib/python3.11/dist-packages (from torch>=1.11.0->sentence-transformers->beir==2.0.0) (1.12)\n",
      "Requirement already satisfied: networkx in /usr/local/lib/python3.11/dist-packages (from torch>=1.11.0->sentence-transformers->beir==2.0.0) (3.2.1)\n",
      "Requirement already satisfied: jinja2 in /usr/local/lib/python3.11/dist-packages (from torch>=1.11.0->sentence-transformers->beir==2.0.0) (3.1.3)\n",
      "Requirement already satisfied: nvidia-cuda-nvrtc-cu12==12.4.99 in /usr/local/lib/python3.11/dist-packages (from torch>=1.11.0->sentence-transformers->beir==2.0.0) (12.4.99)\n",
      "Requirement already satisfied: nvidia-cuda-runtime-cu12==12.4.99 in /usr/local/lib/python3.11/dist-packages (from torch>=1.11.0->sentence-transformers->beir==2.0.0) (12.4.99)\n",
      "Requirement already satisfied: nvidia-cuda-cupti-cu12==12.4.99 in /usr/local/lib/python3.11/dist-packages (from torch>=1.11.0->sentence-transformers->beir==2.0.0) (12.4.99)\n",
      "Requirement already satisfied: nvidia-cudnn-cu12==9.1.0.70 in /usr/local/lib/python3.11/dist-packages (from torch>=1.11.0->sentence-transformers->beir==2.0.0) (9.1.0.70)\n",
      "Requirement already satisfied: nvidia-cublas-cu12==12.4.2.65 in /usr/local/lib/python3.11/dist-packages (from torch>=1.11.0->sentence-transformers->beir==2.0.0) (12.4.2.65)\n",
      "Requirement already satisfied: nvidia-cufft-cu12==11.2.0.44 in /usr/local/lib/python3.11/dist-packages (from torch>=1.11.0->sentence-transformers->beir==2.0.0) (11.2.0.44)\n",
      "Requirement already satisfied: nvidia-curand-cu12==10.3.5.119 in /usr/local/lib/python3.11/dist-packages (from torch>=1.11.0->sentence-transformers->beir==2.0.0) (10.3.5.119)\n",
      "Requirement already satisfied: nvidia-cusolver-cu12==11.6.0.99 in /usr/local/lib/python3.11/dist-packages (from torch>=1.11.0->sentence-transformers->beir==2.0.0) (11.6.0.99)\n",
      "Requirement already satisfied: nvidia-cusparse-cu12==12.3.0.142 in /usr/local/lib/python3.11/dist-packages (from torch>=1.11.0->sentence-transformers->beir==2.0.0) (12.3.0.142)\n",
      "Requirement already satisfied: nvidia-nccl-cu12==2.20.5 in /usr/local/lib/python3.11/dist-packages (from torch>=1.11.0->sentence-transformers->beir==2.0.0) (2.20.5)\n",
      "Requirement already satisfied: nvidia-nvtx-cu12==12.4.99 in /usr/local/lib/python3.11/dist-packages (from torch>=1.11.0->sentence-transformers->beir==2.0.0) (12.4.99)\n",
      "Requirement already satisfied: nvidia-nvjitlink-cu12==12.4.99 in /usr/local/lib/python3.11/dist-packages (from torch>=1.11.0->sentence-transformers->beir==2.0.0) (12.4.99)\n",
      "Requirement already satisfied: triton==3.0.0 in /usr/local/lib/python3.11/dist-packages (from torch>=1.11.0->sentence-transformers->beir==2.0.0) (3.0.0)\n",
      "Requirement already satisfied: regex!=2019.12.17 in /usr/local/lib/python3.11/dist-packages (from transformers<5.0.0,>=4.41.0->sentence-transformers->beir==2.0.0) (2024.11.6)\n",
      "Requirement already satisfied: tokenizers<0.22,>=0.21 in /usr/local/lib/python3.11/dist-packages (from transformers<5.0.0,>=4.41.0->sentence-transformers->beir==2.0.0) (0.21.1)\n",
      "Requirement already satisfied: safetensors>=0.4.1 in /usr/local/lib/python3.11/dist-packages (from transformers<5.0.0,>=4.41.0->sentence-transformers->beir==2.0.0) (0.5.3)\n",
      "Requirement already satisfied: python-dateutil>=2.8.2 in /usr/local/lib/python3.11/dist-packages (from pandas->datasets->beir==2.0.0) (2.9.0.post0)\n",
      "Requirement already satisfied: pytz>=2020.1 in /usr/local/lib/python3.11/dist-packages (from pandas->datasets->beir==2.0.0) (2025.1)\n",
      "Requirement already satisfied: tzdata>=2022.7 in /usr/local/lib/python3.11/dist-packages (from pandas->datasets->beir==2.0.0) (2025.1)\n",
      "Requirement already satisfied: joblib>=1.2.0 in /usr/local/lib/python3.11/dist-packages (from scikit-learn->sentence-transformers->beir==2.0.0) (1.4.2)\n",
      "Requirement already satisfied: threadpoolctl>=3.1.0 in /usr/local/lib/python3.11/dist-packages (from scikit-learn->sentence-transformers->beir==2.0.0) (3.6.0)\n",
      "Requirement already satisfied: six>=1.5 in /usr/lib/python3/dist-packages (from python-dateutil>=2.8.2->pandas->datasets->beir==2.0.0) (1.16.0)\n",
      "Requirement already satisfied: MarkupSafe>=2.0 in /usr/local/lib/python3.11/dist-packages (from jinja2->torch>=1.11.0->sentence-transformers->beir==2.0.0) (2.1.5)\n",
      "Requirement already satisfied: mpmath>=0.19 in /usr/local/lib/python3.11/dist-packages (from sympy->torch>=1.11.0->sentence-transformers->beir==2.0.0) (1.3.0)\n",
      "\u001b[33mWARNING: Running pip as the 'root' user can result in broken permissions and conflicting behaviour with the system package manager, possibly rendering your system unusable.It is recommended to use a virtual environment instead: https://pip.pypa.io/warnings/venv. Use the --root-user-action option if you know what you are doing and want to suppress this warning.\u001b[0m\u001b[33m\n",
      "\u001b[0m\n",
      "\u001b[1m[\u001b[0m\u001b[34;49mnotice\u001b[0m\u001b[1;39;49m]\u001b[0m\u001b[39;49m A new release of pip is available: \u001b[0m\u001b[31;49m24.2\u001b[0m\u001b[39;49m -> \u001b[0m\u001b[32;49m25.0.1\u001b[0m\n",
      "\u001b[1m[\u001b[0m\u001b[34;49mnotice\u001b[0m\u001b[1;39;49m]\u001b[0m\u001b[39;49m To update, run: \u001b[0m\u001b[32;49mpython -m pip install --upgrade pip\u001b[0m\n"
     ]
    }
   ],
   "source": [
    "! pip install beir=='2.0.0'"
   ]
  },
  {
   "cell_type": "code",
   "execution_count": 3,
   "id": "95990c38-fb32-4d11-a65f-94c511b2b7b4",
   "metadata": {},
   "outputs": [
    {
     "name": "stdout",
     "output_type": "stream",
     "text": [
      "Wed Mar 19 09:38:52 2025       \n",
      "+-----------------------------------------------------------------------------------------+\n",
      "| NVIDIA-SMI 565.77                 Driver Version: 565.77         CUDA Version: 12.7     |\n",
      "|-----------------------------------------+------------------------+----------------------+\n",
      "| GPU  Name                 Persistence-M | Bus-Id          Disp.A | Volatile Uncorr. ECC |\n",
      "| Fan  Temp   Perf          Pwr:Usage/Cap |           Memory-Usage | GPU-Util  Compute M. |\n",
      "|                                         |                        |               MIG M. |\n",
      "|=========================================+========================+======================|\n",
      "|   0  NVIDIA RTX A5000               On  |   00000000:03:00.0 Off |                  Off |\n",
      "|  0%   26C    P8             26W /  230W |       2MiB /  24564MiB |      0%      Default |\n",
      "|                                         |                        |                  N/A |\n",
      "+-----------------------------------------+------------------------+----------------------+\n",
      "                                                                                         \n",
      "+-----------------------------------------------------------------------------------------+\n",
      "| Processes:                                                                              |\n",
      "|  GPU   GI   CI        PID   Type   Process name                              GPU Memory |\n",
      "|        ID   ID                                                               Usage      |\n",
      "|=========================================================================================|\n",
      "|  No running processes found                                                             |\n",
      "+-----------------------------------------------------------------------------------------+\n"
     ]
    }
   ],
   "source": [
    "! nvidia-smi"
   ]
  },
  {
   "cell_type": "code",
   "execution_count": 4,
   "id": "2deb81c0-e85e-4e01-ae15-50787e26f281",
   "metadata": {},
   "outputs": [],
   "source": [
    "import os\n",
    "import pathlib\n",
    "import logging\n",
    "from datetime import timedelta\n",
    "from typing import List, Dict, Union, Tuple\n",
    "\n",
    "import numpy as np\n",
    "import torch\n",
    "from torch import Tensor\n",
    "import torch.distributed as dist\n",
    "from tqdm import trange\n",
    "from transformers import AutoTokenizer, AutoModel\n",
    "from transformers.file_utils import PaddingStrategy\n",
    "\n",
    "from beir import util, LoggingHandler\n",
    "from beir.retrieval import models\n",
    "from beir.datasets.data_loader import GenericDataLoader\n",
    "from beir.retrieval.evaluation import EvaluateRetrieval\n",
    "from beir.retrieval.search.dense import DenseRetrievalExactSearch as DRES\n",
    "\n",
    "import torch\n",
    "import numpy as np\n",
    "from typing import List, Dict\n",
    "from tqdm import tqdm\n",
    "from transformers import AutoTokenizer, AutoModel\n",
    "from beir.retrieval.search.dense import DenseRetrievalExactSearch as DRES\n",
    "\n",
    "\n",
    "# Configure logging\n",
    "logging.basicConfig(format='%(asctime)s - %(message)s',\n",
    "                    datefmt='%Y-%m-%d %H:%M:%S',\n",
    "                    level=logging.INFO,\n",
    "                    handlers=[LoggingHandler()])\n",
    "logger = logging.getLogger(__name__)\n",
    "\n",
    "\n",
    "class MedCPTDenseRetriever:\n",
    "    def __init__(self, model_path_query=\"ncbi/MedCPT-Query-Encoder\", model_path_corpus=\"ncbi/MedCPT-Article-Encoder\"):\n",
    "        \"\"\"Initialize the MedCPT Query and Article Encoder\"\"\"\n",
    "        self.device = torch.device(\"cuda\" if torch.cuda.is_available() else \"cpu\")\n",
    "\n",
    "        # Load Query Encoder\n",
    "        self.bert_q = AutoModel.from_pretrained(model_path_query).to(self.device)\n",
    "        self.bert_q.eval()\n",
    "\n",
    "        # Load Article Encoder\n",
    "        self.bert_d = AutoModel.from_pretrained(model_path_corpus).to(self.device)\n",
    "        self.bert_d.eval()\n",
    "\n",
    "        self.tokenizer = AutoTokenizer.from_pretrained(model_path_query)\n",
    "\n",
    "    def encode_queries(self, queries: List[str], batch_size: int = 16, **kwargs) -> np.ndarray:\n",
    "        \"\"\"Encodes queries into dense embeddings\"\"\"\n",
    "        query_embeddings = []\n",
    "\n",
    "        with torch.no_grad():\n",
    "            for start_idx in trange(0, len(queries), batch_size):\n",
    "                encoded = self.tokenizer(\n",
    "                    queries[start_idx:start_idx+batch_size], truncation=True, padding=True, return_tensors='pt', max_length=512\n",
    "                ).to(self.device)\n",
    "\n",
    "                model_out = self.bert_q(**encoded)\n",
    "                query_embeddings += model_out.last_hidden_state[:, 0, :].detach().cpu()\n",
    "\n",
    "        return torch.stack(query_embeddings).numpy()\n",
    "\n",
    "    def encode_corpus(self, corpus: List[Dict[str, str]], batch_size: int = 32, **kwargs) -> np.ndarray:\n",
    "        \"\"\"Encodes articles (title + abstract) into dense embeddings\"\"\"\n",
    "        corpus_embeddings = []\n",
    "\n",
    "        with torch.no_grad():\n",
    "            for start_idx in trange(0, len(corpus), batch_size):\n",
    "                titles = [row.get('title', '') for row in corpus[start_idx: start_idx + batch_size]]\n",
    "                texts = [row.get('text', '') for row in corpus[start_idx: start_idx + batch_size]]\n",
    "\n",
    "                encoded = self.tokenizer(\n",
    "                    titles, texts, truncation='longest_first', padding=True, return_tensors='pt', max_length=512\n",
    "                ).to(self.device)\n",
    "\n",
    "                model_out = self.bert_d(**encoded)\n",
    "                corpus_embeddings += model_out.last_hidden_state[:, 0, :].detach().cpu()\n",
    "\n",
    "        return torch.stack(corpus_embeddings).numpy()"
   ]
  },
  {
   "cell_type": "code",
   "execution_count": 10,
   "id": "f2d31ea6-5497-47c5-b7d1-5684029d6d49",
   "metadata": {},
   "outputs": [],
   "source": [
    "medcpt = DRES(MedCPTDenseRetriever())\n",
    "retriever_medcpt = EvaluateRetrieval(medcpt, score_function=\"dot\") # or \"cos_sim\" for cosine similarity"
   ]
  },
  {
   "cell_type": "code",
   "execution_count": 6,
   "id": "d6d5b2ed-bcc1-4c0c-a318-ed4c81fc865b",
   "metadata": {},
   "outputs": [],
   "source": [
    "# Download and load dataset\n",
    "dataset = \"nfcorpus\" # dataset name\n",
    "url = f\"https://public.ukp.informatik.tu-darmstadt.de/thakur/BEIR/datasets/{dataset}.zip\"\n",
    "out_dir = \"datasets\"\n",
    "data_path = util.download_and_unzip(url, out_dir)"
   ]
  },
  {
   "cell_type": "code",
   "execution_count": 7,
   "id": "d6f1f4f9-d38d-42da-8233-a279e0b7555e",
   "metadata": {},
   "outputs": [
    {
     "name": "stdout",
     "output_type": "stream",
     "text": [
      "2025-03-19 09:42:37 - Loading Corpus...\n"
     ]
    },
    {
     "data": {
      "application/vnd.jupyter.widget-view+json": {
       "model_id": "effe859805b1490091d8018fa255022a",
       "version_major": 2,
       "version_minor": 0
      },
      "text/plain": [
       "  0%|          | 0/3633 [00:00<?, ?it/s]"
      ]
     },
     "metadata": {},
     "output_type": "display_data"
    },
    {
     "name": "stdout",
     "output_type": "stream",
     "text": [
      "2025-03-19 09:42:37 - Loaded 3633 TEST Documents.\n",
      "2025-03-19 09:42:37 - Doc Example: {'text': 'Recent studies have suggested that statins, an established drug group in the prevention of cardiovascular mortality, could delay or prevent breast cancer recurrence but the effect on disease-specific mortality remains unclear. We evaluated risk of breast cancer death among statin users in a population-based cohort of breast cancer patients. The study cohort included all newly diagnosed breast cancer patients in Finland during 1995–2003 (31,236 cases), identified from the Finnish Cancer Registry. Information on statin use before and after the diagnosis was obtained from a national prescription database. We used the Cox proportional hazards regression method to estimate mortality among statin users with statin use as time-dependent variable. A total of 4,151 participants had used statins. During the median follow-up of 3.25 years after the diagnosis (range 0.08–9.0 years) 6,011 participants died, of which 3,619 (60.2%) was due to breast cancer. After adjustment for age, tumor characteristics, and treatment selection, both post-diagnostic and pre-diagnostic statin use were associated with lowered risk of breast cancer death (HR 0.46, 95% CI 0.38–0.55 and HR 0.54, 95% CI 0.44–0.67, respectively). The risk decrease by post-diagnostic statin use was likely affected by healthy adherer bias; that is, the greater likelihood of dying cancer patients to discontinue statin use as the association was not clearly dose-dependent and observed already at low-dose/short-term use. The dose- and time-dependence of the survival benefit among pre-diagnostic statin users suggests a possible causal effect that should be evaluated further in a clinical trial testing statins’ effect on survival in breast cancer patients.', 'title': 'Statin Use and Breast Cancer Survival: A Nationwide Cohort Study from Finland'}\n",
      "2025-03-19 09:42:37 - Loading Queries...\n",
      "2025-03-19 09:42:37 - Loaded 323 TEST Queries.\n",
      "2025-03-19 09:42:37 - Query Example: Do Cholesterol Statin Drugs Cause Breast Cancer?\n"
     ]
    }
   ],
   "source": [
    "# Load corpus, queries, and qrels\n",
    "corpus, queries, qrels = GenericDataLoader(data_folder=data_path).load(split=\"test\")"
   ]
  },
  {
   "cell_type": "code",
   "execution_count": 8,
   "id": "2f3ab9b9-207e-4a22-a57a-bf2d408ac385",
   "metadata": {},
   "outputs": [],
   "source": [
    "import json\n",
    "# load paraphrased dataset\n",
    "with open(f\"{dataset}_query_paraphrased_gpt4o.json\", encoding='utf-8') as f:\n",
    "    # Load the JSON data into a Python dictionary\n",
    "    queries_para = json.load(f)"
   ]
  },
  {
   "cell_type": "code",
   "execution_count": 9,
   "id": "e6727054-0466-4d27-a707-c5d62a4efc36",
   "metadata": {},
   "outputs": [],
   "source": [
    "queries_p = {}\n",
    "for q in queries_para:\n",
    "  queries_p[q] = queries_para[q]['query_p']"
   ]
  },
  {
   "cell_type": "code",
   "execution_count": 11,
   "id": "654132ec-3afc-42f0-ae7c-4a83c73bd9b3",
   "metadata": {},
   "outputs": [
    {
     "name": "stdout",
     "output_type": "stream",
     "text": [
      "2025-03-19 09:43:08 - Encoding Queries...\n"
     ]
    },
    {
     "name": "stderr",
     "output_type": "stream",
     "text": [
      "100%|██████████| 3/3 [00:00<00:00,  8.74it/s]\n"
     ]
    },
    {
     "name": "stdout",
     "output_type": "stream",
     "text": [
      "2025-03-19 09:43:08 - Sorting Corpus by document length (Longest first)...\n",
      "2025-03-19 09:43:08 - Encoding Corpus in batches... Warning: This might take a while!\n",
      "2025-03-19 09:43:08 - Scoring Function: Dot Product (dot)\n",
      "2025-03-19 09:43:08 - Encoding Batch 1/1...\n"
     ]
    },
    {
     "name": "stderr",
     "output_type": "stream",
     "text": [
      "100%|██████████| 29/29 [00:26<00:00,  1.10it/s]\n"
     ]
    }
   ],
   "source": [
    "results_medcpt = retriever_medcpt.retrieve(corpus, queries_p)"
   ]
  },
  {
   "cell_type": "code",
   "execution_count": 12,
   "id": "ce66097e-f455-4bbe-acd6-e874a5c0e5fd",
   "metadata": {},
   "outputs": [
    {
     "name": "stdout",
     "output_type": "stream",
     "text": [
      "2025-03-19 09:43:43 - For evaluation, we ignore identical query and document ids (default), please explicitly set ``ignore_identical_ids=False`` to ignore this.\n",
      "2025-03-19 09:43:43 - \n",
      "\n",
      "2025-03-19 09:43:43 - NDCG@1: 0.3111\n",
      "2025-03-19 09:43:43 - NDCG@3: 0.3020\n",
      "2025-03-19 09:43:43 - NDCG@5: 0.2895\n",
      "2025-03-19 09:43:43 - NDCG@10: 0.2720\n",
      "2025-03-19 09:43:43 - NDCG@100: 0.2799\n",
      "2025-03-19 09:43:43 - NDCG@1000: 0.3728\n",
      "2025-03-19 09:43:43 - \n",
      "\n",
      "2025-03-19 09:43:43 - MAP@1: 0.0364\n",
      "2025-03-19 09:43:43 - MAP@3: 0.0644\n",
      "2025-03-19 09:43:43 - MAP@5: 0.0756\n",
      "2025-03-19 09:43:43 - MAP@10: 0.0924\n",
      "2025-03-19 09:43:43 - MAP@100: 0.1291\n",
      "2025-03-19 09:43:43 - MAP@1000: 0.1442\n",
      "2025-03-19 09:43:43 - \n",
      "\n",
      "2025-03-19 09:43:43 - Recall@1: 0.0364\n",
      "2025-03-19 09:43:43 - Recall@3: 0.0782\n",
      "2025-03-19 09:43:43 - Recall@5: 0.0966\n",
      "2025-03-19 09:43:43 - Recall@10: 0.1299\n",
      "2025-03-19 09:43:43 - Recall@100: 0.3220\n",
      "2025-03-19 09:43:43 - Recall@1000: 0.6537\n",
      "2025-03-19 09:43:43 - \n",
      "\n",
      "2025-03-19 09:43:43 - P@1: 0.3220\n",
      "2025-03-19 09:43:43 - P@3: 0.2920\n",
      "2025-03-19 09:43:43 - P@5: 0.2594\n",
      "2025-03-19 09:43:43 - P@10: 0.2112\n",
      "2025-03-19 09:43:43 - P@100: 0.0791\n",
      "2025-03-19 09:43:43 - P@1000: 0.0213\n"
     ]
    }
   ],
   "source": [
    "# Evaluate your model with NDCG@k, MAP@K, Recall@K and Precision@K where k = [1,3,5,10,100,1000]\n",
    "ndcg, _map, recall, precision = retriever_medcpt.evaluate(qrels, results_medcpt, retriever_medcpt.k_values)"
   ]
  },
  {
   "cell_type": "code",
   "execution_count": 13,
   "id": "574ac1ea-1fa9-4553-bef0-589e4606c04f",
   "metadata": {},
   "outputs": [
    {
     "name": "stdout",
     "output_type": "stream",
     "text": [
      "Model: MedCPT; Dataset: nfcorpus (paraphrased)\n",
      "------------------------------------------------------------------------------------------------------------------------------------------------------\n",
      "{'NDCG@1': 0.31115, 'NDCG@3': 0.30205, 'NDCG@5': 0.28955, 'NDCG@10': 0.27197, 'NDCG@100': 0.27993, 'NDCG@1000': 0.37275}\n",
      "{'MAP@1': 0.0364, 'MAP@3': 0.06437, 'MAP@5': 0.07563, 'MAP@10': 0.09239, 'MAP@100': 0.12911, 'MAP@1000': 0.14422}\n",
      "{'Recall@1': 0.0364, 'Recall@3': 0.07819, 'Recall@5': 0.09665, 'Recall@10': 0.12994, 'Recall@100': 0.32201, 'Recall@1000': 0.65368}\n",
      "{'P@1': 0.32198, 'P@3': 0.29205, 'P@5': 0.25944, 'P@10': 0.21115, 'P@100': 0.07913, 'P@1000': 0.02132}\n"
     ]
    }
   ],
   "source": [
    "print(f\"Model: MedCPT; Dataset: {dataset} (paraphrased)\")\n",
    "print(\"-\" * 150)\n",
    "print(ndcg)\n",
    "print(_map)\n",
    "print(recall)\n",
    "print(precision)"
   ]
  },
  {
   "cell_type": "code",
   "execution_count": 14,
   "id": "c5de97b6-e5c8-4c76-8453-3cc94e040d6d",
   "metadata": {},
   "outputs": [],
   "source": [
    "# Download and load dataset\n",
    "dataset = \"scifact\" # dataset name\n",
    "url = f\"https://public.ukp.informatik.tu-darmstadt.de/thakur/BEIR/datasets/{dataset}.zip\"\n",
    "out_dir = \"datasets\"\n",
    "data_path = util.download_and_unzip(url, out_dir)"
   ]
  },
  {
   "cell_type": "code",
   "execution_count": 15,
   "id": "9bf787d3-21c7-4c03-af0c-04ce436d302b",
   "metadata": {},
   "outputs": [
    {
     "name": "stdout",
     "output_type": "stream",
     "text": [
      "2025-03-19 09:44:21 - Loading Corpus...\n"
     ]
    },
    {
     "data": {
      "application/vnd.jupyter.widget-view+json": {
       "model_id": "0a14125b288445c0a599a5515b4ae89b",
       "version_major": 2,
       "version_minor": 0
      },
      "text/plain": [
       "  0%|          | 0/5183 [00:00<?, ?it/s]"
      ]
     },
     "metadata": {},
     "output_type": "display_data"
    },
    {
     "name": "stdout",
     "output_type": "stream",
     "text": [
      "2025-03-19 09:44:21 - Loaded 5183 TEST Documents.\n",
      "2025-03-19 09:44:21 - Doc Example: {'text': 'Alterations of the architecture of cerebral white matter in the developing human brain can affect cortical development and result in functional disabilities. A line scan diffusion-weighted magnetic resonance imaging (MRI) sequence with diffusion tensor analysis was applied to measure the apparent diffusion coefficient, to calculate relative anisotropy, and to delineate three-dimensional fiber architecture in cerebral white matter in preterm (n = 17) and full-term infants (n = 7). To assess effects of prematurity on cerebral white matter development, early gestation preterm infants (n = 10) were studied a second time at term. In the central white matter the mean apparent diffusion coefficient at 28 wk was high, 1.8 microm2/ms, and decreased toward term to 1.2 microm2/ms. In the posterior limb of the internal capsule, the mean apparent diffusion coefficients at both times were similar (1.2 versus 1.1 microm2/ms). Relative anisotropy was higher the closer birth was to term with greater absolute values in the internal capsule than in the central white matter. Preterm infants at term showed higher mean diffusion coefficients in the central white matter (1.4 +/- 0.24 versus 1.15 +/- 0.09 microm2/ms, p = 0.016) and lower relative anisotropy in both areas compared with full-term infants (white matter, 10.9 +/- 0.6 versus 22.9 +/- 3.0%, p = 0.001; internal capsule, 24.0 +/- 4.44 versus 33.1 +/- 0.6% p = 0.006). Nonmyelinated fibers in the corpus callosum were visible by diffusion tensor MRI as early as 28 wk; full-term and preterm infants at term showed marked differences in white matter fiber organization. The data indicate that quantitative assessment of water diffusion by diffusion tensor MRI provides insight into microstructural development in cerebral white matter in living infants.', 'title': 'Microstructural development of human newborn cerebral white matter assessed in vivo by diffusion tensor magnetic resonance imaging.'}\n",
      "2025-03-19 09:44:21 - Loading Queries...\n",
      "2025-03-19 09:44:21 - Loaded 300 TEST Queries.\n",
      "2025-03-19 09:44:21 - Query Example: 0-dimensional biomaterials show inductive properties.\n"
     ]
    }
   ],
   "source": [
    "# Load corpus, queries, and qrels\n",
    "corpus, queries, qrels = GenericDataLoader(data_folder=data_path).load(split=\"test\")"
   ]
  },
  {
   "cell_type": "code",
   "execution_count": 16,
   "id": "57be5738-fa61-4792-8764-382590e1d4c8",
   "metadata": {},
   "outputs": [],
   "source": [
    "import json\n",
    "# load paraphrased dataset\n",
    "with open(f\"{dataset}_query_paraphrased_gpt4o.json\", encoding='utf-8') as f:\n",
    "    # Load the JSON data into a Python dictionary\n",
    "    queries_para = json.load(f)"
   ]
  },
  {
   "cell_type": "code",
   "execution_count": 17,
   "id": "25d122a5-c492-4c37-8125-bb99cceb4b4d",
   "metadata": {},
   "outputs": [],
   "source": [
    "queries_p = {}\n",
    "for q in queries_para:\n",
    "  queries_p[q] = queries_para[q]['query_p']"
   ]
  },
  {
   "cell_type": "code",
   "execution_count": 18,
   "id": "95c2b253-33e9-4bef-830f-7eaf043247d1",
   "metadata": {},
   "outputs": [
    {
     "name": "stdout",
     "output_type": "stream",
     "text": [
      "2025-03-19 09:44:37 - Encoding Queries...\n"
     ]
    },
    {
     "name": "stderr",
     "output_type": "stream",
     "text": [
      "100%|██████████| 3/3 [00:00<00:00, 13.78it/s]\n"
     ]
    },
    {
     "name": "stdout",
     "output_type": "stream",
     "text": [
      "2025-03-19 09:44:37 - Sorting Corpus by document length (Longest first)...\n",
      "2025-03-19 09:44:37 - Encoding Corpus in batches... Warning: This might take a while!\n",
      "2025-03-19 09:44:37 - Scoring Function: Dot Product (dot)\n",
      "2025-03-19 09:44:37 - Encoding Batch 1/1...\n"
     ]
    },
    {
     "name": "stderr",
     "output_type": "stream",
     "text": [
      "100%|██████████| 41/41 [00:32<00:00,  1.25it/s]\n"
     ]
    }
   ],
   "source": [
    "results_medcpt = retriever_medcpt.retrieve(corpus, queries_p)"
   ]
  },
  {
   "cell_type": "code",
   "execution_count": 19,
   "id": "ed2bbd45-f511-4ef8-b6e1-4d4a08dc4dce",
   "metadata": {},
   "outputs": [
    {
     "name": "stdout",
     "output_type": "stream",
     "text": [
      "2025-03-19 09:45:10 - For evaluation, we ignore identical query and document ids (default), please explicitly set ``ignore_identical_ids=False`` to ignore this.\n",
      "2025-03-19 09:45:10 - \n",
      "\n",
      "2025-03-19 09:45:10 - NDCG@1: 0.5133\n",
      "2025-03-19 09:45:10 - NDCG@3: 0.6085\n",
      "2025-03-19 09:45:10 - NDCG@5: 0.6415\n",
      "2025-03-19 09:45:10 - NDCG@10: 0.6613\n",
      "2025-03-19 09:45:10 - NDCG@100: 0.6994\n",
      "2025-03-19 09:45:10 - NDCG@1000: 0.7019\n",
      "2025-03-19 09:45:10 - \n",
      "\n",
      "2025-03-19 09:45:10 - MAP@1: 0.4890\n",
      "2025-03-19 09:45:10 - MAP@3: 0.5757\n",
      "2025-03-19 09:45:10 - MAP@5: 0.5968\n",
      "2025-03-19 09:45:10 - MAP@10: 0.6059\n",
      "2025-03-19 09:45:10 - MAP@100: 0.6157\n",
      "2025-03-19 09:45:10 - MAP@1000: 0.6158\n",
      "2025-03-19 09:45:10 - \n",
      "\n",
      "2025-03-19 09:45:10 - Recall@1: 0.4890\n",
      "2025-03-19 09:45:10 - Recall@3: 0.6767\n",
      "2025-03-19 09:45:10 - Recall@5: 0.7578\n",
      "2025-03-19 09:45:10 - Recall@10: 0.8149\n",
      "2025-03-19 09:45:10 - Recall@100: 0.9783\n",
      "2025-03-19 09:45:10 - Recall@1000: 0.9967\n",
      "2025-03-19 09:45:10 - \n",
      "\n",
      "2025-03-19 09:45:10 - P@1: 0.5133\n",
      "2025-03-19 09:45:10 - P@3: 0.2444\n",
      "2025-03-19 09:45:10 - P@5: 0.1673\n",
      "2025-03-19 09:45:10 - P@10: 0.0913\n",
      "2025-03-19 09:45:10 - P@100: 0.0111\n",
      "2025-03-19 09:45:10 - P@1000: 0.0011\n"
     ]
    }
   ],
   "source": [
    "# Evaluate your model with NDCG@k, MAP@K, Recall@K and Precision@K where k = [1,3,5,10,100,1000]\n",
    "ndcg, _map, recall, precision = retriever_medcpt.evaluate(qrels, results_medcpt, retriever_medcpt.k_values)"
   ]
  },
  {
   "cell_type": "code",
   "execution_count": 20,
   "id": "cb8a0a3e-52b6-4d2f-a10d-6d68e3f24e7d",
   "metadata": {},
   "outputs": [
    {
     "name": "stdout",
     "output_type": "stream",
     "text": [
      "Model: MedCPT; Dataset: scifact (paraphrased)\n",
      "------------------------------------------------------------------------------------------------------------------------------------------------------\n",
      "{'NDCG@1': 0.51333, 'NDCG@3': 0.6085, 'NDCG@5': 0.64155, 'NDCG@10': 0.66131, 'NDCG@100': 0.69944, 'NDCG@1000': 0.70188}\n",
      "{'MAP@1': 0.489, 'MAP@3': 0.57566, 'MAP@5': 0.59682, 'MAP@10': 0.60587, 'MAP@100': 0.61569, 'MAP@1000': 0.6158}\n",
      "{'Recall@1': 0.489, 'Recall@3': 0.67672, 'Recall@5': 0.75778, 'Recall@10': 0.81494, 'Recall@100': 0.97833, 'Recall@1000': 0.99667}\n",
      "{'P@1': 0.51333, 'P@3': 0.24444, 'P@5': 0.16733, 'P@10': 0.09133, 'P@100': 0.01107, 'P@1000': 0.00113}\n"
     ]
    }
   ],
   "source": [
    "print(f\"Model: MedCPT; Dataset: {dataset} (paraphrased)\")\n",
    "print(\"-\" * 150)\n",
    "print(ndcg)\n",
    "print(_map)\n",
    "print(recall)\n",
    "print(precision)"
   ]
  },
  {
   "cell_type": "code",
   "execution_count": 21,
   "id": "7ce47712-eac7-46ff-9ae9-a76740d26c75",
   "metadata": {},
   "outputs": [],
   "source": [
    "# Download and load dataset\n",
    "dataset = \"trec-covid\" # dataset name\n",
    "url = f\"https://public.ukp.informatik.tu-darmstadt.de/thakur/BEIR/datasets/{dataset}.zip\"\n",
    "out_dir = \"datasets\"\n",
    "data_path = util.download_and_unzip(url, out_dir)"
   ]
  },
  {
   "cell_type": "code",
   "execution_count": 22,
   "id": "d2c81314-b0be-4cea-be88-03b1c358bfcc",
   "metadata": {},
   "outputs": [
    {
     "name": "stdout",
     "output_type": "stream",
     "text": [
      "2025-03-19 09:45:26 - Loading Corpus...\n"
     ]
    },
    {
     "data": {
      "application/vnd.jupyter.widget-view+json": {
       "model_id": "6b049fdcb3694401b17383f4f5cd5f33",
       "version_major": 2,
       "version_minor": 0
      },
      "text/plain": [
       "  0%|          | 0/171332 [00:00<?, ?it/s]"
      ]
     },
     "metadata": {},
     "output_type": "display_data"
    },
    {
     "name": "stdout",
     "output_type": "stream",
     "text": [
      "2025-03-19 09:45:27 - Loaded 171332 TEST Documents.\n",
      "2025-03-19 09:45:27 - Doc Example: {'text': 'OBJECTIVE: This retrospective chart review describes the epidemiology and clinical features of 40 patients with culture-proven Mycoplasma pneumoniae infections at King Abdulaziz University Hospital, Jeddah, Saudi Arabia. METHODS: Patients with positive M. pneumoniae cultures from respiratory specimens from January 1997 through December 1998 were identified through the Microbiology records. Charts of patients were reviewed. RESULTS: 40 patients were identified, 33 (82.5%) of whom required admission. Most infections (92.5%) were community-acquired. The infection affected all age groups but was most common in infants (32.5%) and pre-school children (22.5%). It occurred year-round but was most common in the fall (35%) and spring (30%). More than three-quarters of patients (77.5%) had comorbidities. Twenty-four isolates (60%) were associated with pneumonia, 14 (35%) with upper respiratory tract infections, and 2 (5%) with bronchiolitis. Cough (82.5%), fever (75%), and malaise (58.8%) were the most common symptoms, and crepitations (60%), and wheezes (40%) were the most common signs. Most patients with pneumonia had crepitations (79.2%) but only 25% had bronchial breathing. Immunocompromised patients were more likely than non-immunocompromised patients to present with pneumonia (8/9 versus 16/31, P = 0.05). Of the 24 patients with pneumonia, 14 (58.3%) had uneventful recovery, 4 (16.7%) recovered following some complications, 3 (12.5%) died because of M pneumoniae infection, and 3 (12.5%) died due to underlying comorbidities. The 3 patients who died of M pneumoniae pneumonia had other comorbidities. CONCLUSION: our results were similar to published data except for the finding that infections were more common in infants and preschool children and that the mortality rate of pneumonia in patients with comorbidities was high.', 'title': 'Clinical features of culture-proven Mycoplasma pneumoniae infections at King Abdulaziz University Hospital, Jeddah, Saudi Arabia'}\n",
      "2025-03-19 09:45:27 - Loading Queries...\n",
      "2025-03-19 09:45:27 - Loaded 50 TEST Queries.\n",
      "2025-03-19 09:45:27 - Query Example: what is the origin of COVID-19\n"
     ]
    }
   ],
   "source": [
    "# Load corpus, queries, and qrels\n",
    "corpus, queries, qrels = GenericDataLoader(data_folder=data_path).load(split=\"test\")"
   ]
  },
  {
   "cell_type": "code",
   "execution_count": 23,
   "id": "9f7f2719-a29f-432e-9294-a80c2bcdda8f",
   "metadata": {},
   "outputs": [],
   "source": [
    "import json\n",
    "# load paraphrased dataset\n",
    "with open(f\"{dataset}_query_paraphrased_gpt4o.json\", encoding='utf-8') as f:\n",
    "    # Load the JSON data into a Python dictionary\n",
    "    queries_para = json.load(f)"
   ]
  },
  {
   "cell_type": "code",
   "execution_count": 24,
   "id": "f3154461-8b22-4853-823b-fc7312565a46",
   "metadata": {},
   "outputs": [],
   "source": [
    "queries_p = {}\n",
    "for q in queries_para:\n",
    "  queries_p[q] = queries_para[q]['query_p']"
   ]
  },
  {
   "cell_type": "code",
   "execution_count": 25,
   "id": "111b860f-2c29-4d0f-8b61-52e7473e1740",
   "metadata": {},
   "outputs": [
    {
     "name": "stdout",
     "output_type": "stream",
     "text": [
      "2025-03-19 09:45:48 - Encoding Queries...\n"
     ]
    },
    {
     "name": "stderr",
     "output_type": "stream",
     "text": [
      "100%|██████████| 1/1 [00:00<00:00, 22.48it/s]"
     ]
    },
    {
     "name": "stdout",
     "output_type": "stream",
     "text": [
      "2025-03-19 09:45:48 - Sorting Corpus by document length (Longest first)...\n"
     ]
    },
    {
     "name": "stderr",
     "output_type": "stream",
     "text": [
      "\n"
     ]
    },
    {
     "name": "stdout",
     "output_type": "stream",
     "text": [
      "2025-03-19 09:45:49 - Encoding Corpus in batches... Warning: This might take a while!\n",
      "2025-03-19 09:45:49 - Scoring Function: Dot Product (dot)\n",
      "2025-03-19 09:45:49 - Encoding Batch 1/4...\n"
     ]
    },
    {
     "name": "stderr",
     "output_type": "stream",
     "text": [
      "100%|██████████| 391/391 [07:25<00:00,  1.14s/it]\n"
     ]
    },
    {
     "name": "stdout",
     "output_type": "stream",
     "text": [
      "2025-03-19 09:53:14 - Encoding Batch 2/4...\n"
     ]
    },
    {
     "name": "stderr",
     "output_type": "stream",
     "text": [
      "100%|██████████| 391/391 [05:33<00:00,  1.17it/s]\n"
     ]
    },
    {
     "name": "stdout",
     "output_type": "stream",
     "text": [
      "2025-03-19 09:58:48 - Encoding Batch 3/4...\n"
     ]
    },
    {
     "name": "stderr",
     "output_type": "stream",
     "text": [
      "100%|██████████| 391/391 [02:17<00:00,  2.84it/s]\n"
     ]
    },
    {
     "name": "stdout",
     "output_type": "stream",
     "text": [
      "2025-03-19 10:01:06 - Encoding Batch 4/4...\n"
     ]
    },
    {
     "name": "stderr",
     "output_type": "stream",
     "text": [
      "100%|██████████| 167/167 [00:08<00:00, 20.15it/s]\n"
     ]
    }
   ],
   "source": [
    "results_medcpt = retriever_medcpt.retrieve(corpus, queries_p)"
   ]
  },
  {
   "cell_type": "code",
   "execution_count": 26,
   "id": "3e1322fb-5941-4b1f-9722-1d3653510c15",
   "metadata": {},
   "outputs": [
    {
     "name": "stdout",
     "output_type": "stream",
     "text": [
      "2025-03-19 10:01:15 - For evaluation, we ignore identical query and document ids (default), please explicitly set ``ignore_identical_ids=False`` to ignore this.\n",
      "2025-03-19 10:01:15 - \n",
      "\n",
      "2025-03-19 10:01:15 - NDCG@1: 0.4700\n",
      "2025-03-19 10:01:15 - NDCG@3: 0.4564\n",
      "2025-03-19 10:01:15 - NDCG@5: 0.4717\n",
      "2025-03-19 10:01:15 - NDCG@10: 0.4454\n",
      "2025-03-19 10:01:15 - NDCG@100: 0.3893\n",
      "2025-03-19 10:01:15 - NDCG@1000: 0.4223\n",
      "2025-03-19 10:01:15 - \n",
      "\n",
      "2025-03-19 10:01:15 - MAP@1: 0.0013\n",
      "2025-03-19 10:01:15 - MAP@3: 0.0035\n",
      "2025-03-19 10:01:15 - MAP@5: 0.0056\n",
      "2025-03-19 10:01:15 - MAP@10: 0.0100\n",
      "2025-03-19 10:01:15 - MAP@100: 0.0671\n",
      "2025-03-19 10:01:15 - MAP@1000: 0.1938\n",
      "2025-03-19 10:01:15 - \n",
      "\n",
      "2025-03-19 10:01:15 - Recall@1: 0.0013\n",
      "2025-03-19 10:01:15 - Recall@3: 0.0039\n",
      "2025-03-19 10:01:15 - Recall@5: 0.0067\n",
      "2025-03-19 10:01:15 - Recall@10: 0.0126\n",
      "2025-03-19 10:01:15 - Recall@100: 0.1027\n",
      "2025-03-19 10:01:15 - Recall@1000: 0.4293\n",
      "2025-03-19 10:01:15 - \n",
      "\n",
      "2025-03-19 10:01:15 - P@1: 0.5200\n",
      "2025-03-19 10:01:15 - P@3: 0.4800\n",
      "2025-03-19 10:01:15 - P@5: 0.5160\n",
      "2025-03-19 10:01:15 - P@10: 0.4860\n",
      "2025-03-19 10:01:15 - P@100: 0.4172\n",
      "2025-03-19 10:01:15 - P@1000: 0.1953\n"
     ]
    }
   ],
   "source": [
    "# Evaluate your model with NDCG@k, MAP@K, Recall@K and Precision@K where k = [1,3,5,10,100,1000]\n",
    "ndcg, _map, recall, precision = retriever_medcpt.evaluate(qrels, results_medcpt, retriever_medcpt.k_values)"
   ]
  },
  {
   "cell_type": "code",
   "execution_count": 27,
   "id": "76f1d8cf-b007-4108-8fed-9e1819d4515e",
   "metadata": {},
   "outputs": [
    {
     "name": "stdout",
     "output_type": "stream",
     "text": [
      "Model: MedCPT; Dataset: trec-covid (paraphrased)\n",
      "------------------------------------------------------------------------------------------------------------------------------------------------------\n",
      "{'NDCG@1': 0.47, 'NDCG@3': 0.45642, 'NDCG@5': 0.4717, 'NDCG@10': 0.44542, 'NDCG@100': 0.38933, 'NDCG@1000': 0.42232}\n",
      "{'MAP@1': 0.00133, 'MAP@3': 0.00351, 'MAP@5': 0.0056, 'MAP@10': 0.00998, 'MAP@100': 0.06712, 'MAP@1000': 0.19384}\n",
      "{'Recall@1': 0.00133, 'Recall@3': 0.00385, 'Recall@5': 0.00675, 'Recall@10': 0.01263, 'Recall@100': 0.1027, 'Recall@1000': 0.42929}\n",
      "{'P@1': 0.52, 'P@3': 0.48, 'P@5': 0.516, 'P@10': 0.486, 'P@100': 0.4172, 'P@1000': 0.19526}\n"
     ]
    }
   ],
   "source": [
    "print(f\"Model: MedCPT; Dataset: {dataset} (paraphrased)\")\n",
    "print(\"-\" * 150)\n",
    "print(ndcg)\n",
    "print(_map)\n",
    "print(recall)\n",
    "print(precision)"
   ]
  },
  {
   "cell_type": "code",
   "execution_count": null,
   "id": "dbdd8375-7175-40d1-8b36-dc173b18bdad",
   "metadata": {},
   "outputs": [],
   "source": []
  }
 ],
 "metadata": {
  "kernelspec": {
   "display_name": "Python 3 (ipykernel)",
   "language": "python",
   "name": "python3"
  },
  "language_info": {
   "codemirror_mode": {
    "name": "ipython",
    "version": 3
   },
   "file_extension": ".py",
   "mimetype": "text/x-python",
   "name": "python",
   "nbconvert_exporter": "python",
   "pygments_lexer": "ipython3",
   "version": "3.11.10"
  }
 },
 "nbformat": 4,
 "nbformat_minor": 5
}
