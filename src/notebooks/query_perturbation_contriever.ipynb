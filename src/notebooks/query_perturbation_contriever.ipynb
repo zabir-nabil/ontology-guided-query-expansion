{
 "cells": [
  {
   "cell_type": "code",
   "execution_count": 1,
   "id": "7984acbf-dc16-489e-89ca-b5e2a0b00ebe",
   "metadata": {},
   "outputs": [
    {
     "name": "stdout",
     "output_type": "stream",
     "text": [
      "Requirement already satisfied: transformers==4.48.3 in /usr/local/lib/python3.11/dist-packages (4.48.3)\n",
      "Requirement already satisfied: filelock in /usr/local/lib/python3.11/dist-packages (from transformers==4.48.3) (3.13.1)\n",
      "Requirement already satisfied: huggingface-hub<1.0,>=0.24.0 in /usr/local/lib/python3.11/dist-packages (from transformers==4.48.3) (0.29.3)\n",
      "Requirement already satisfied: numpy>=1.17 in /usr/local/lib/python3.11/dist-packages (from transformers==4.48.3) (1.26.3)\n",
      "Requirement already satisfied: packaging>=20.0 in /usr/local/lib/python3.11/dist-packages (from transformers==4.48.3) (24.1)\n",
      "Requirement already satisfied: pyyaml>=5.1 in /usr/local/lib/python3.11/dist-packages (from transformers==4.48.3) (6.0.2)\n",
      "Requirement already satisfied: regex!=2019.12.17 in /usr/local/lib/python3.11/dist-packages (from transformers==4.48.3) (2024.11.6)\n",
      "Requirement already satisfied: requests in /usr/local/lib/python3.11/dist-packages (from transformers==4.48.3) (2.32.3)\n",
      "Requirement already satisfied: tokenizers<0.22,>=0.21 in /usr/local/lib/python3.11/dist-packages (from transformers==4.48.3) (0.21.1)\n",
      "Requirement already satisfied: safetensors>=0.4.1 in /usr/local/lib/python3.11/dist-packages (from transformers==4.48.3) (0.5.3)\n",
      "Requirement already satisfied: tqdm>=4.27 in /usr/local/lib/python3.11/dist-packages (from transformers==4.48.3) (4.67.1)\n",
      "Requirement already satisfied: fsspec>=2023.5.0 in /usr/local/lib/python3.11/dist-packages (from huggingface-hub<1.0,>=0.24.0->transformers==4.48.3) (2024.2.0)\n",
      "Requirement already satisfied: typing-extensions>=3.7.4.3 in /usr/local/lib/python3.11/dist-packages (from huggingface-hub<1.0,>=0.24.0->transformers==4.48.3) (4.9.0)\n",
      "Requirement already satisfied: charset-normalizer<4,>=2 in /usr/local/lib/python3.11/dist-packages (from requests->transformers==4.48.3) (3.3.2)\n",
      "Requirement already satisfied: idna<4,>=2.5 in /usr/local/lib/python3.11/dist-packages (from requests->transformers==4.48.3) (3.10)\n",
      "Requirement already satisfied: urllib3<3,>=1.21.1 in /usr/local/lib/python3.11/dist-packages (from requests->transformers==4.48.3) (2.2.3)\n",
      "Requirement already satisfied: certifi>=2017.4.17 in /usr/local/lib/python3.11/dist-packages (from requests->transformers==4.48.3) (2024.8.30)\n",
      "\u001b[33mWARNING: Running pip as the 'root' user can result in broken permissions and conflicting behaviour with the system package manager, possibly rendering your system unusable.It is recommended to use a virtual environment instead: https://pip.pypa.io/warnings/venv. Use the --root-user-action option if you know what you are doing and want to suppress this warning.\u001b[0m\u001b[33m\n",
      "\u001b[0m\n",
      "\u001b[1m[\u001b[0m\u001b[34;49mnotice\u001b[0m\u001b[1;39;49m]\u001b[0m\u001b[39;49m A new release of pip is available: \u001b[0m\u001b[31;49m24.2\u001b[0m\u001b[39;49m -> \u001b[0m\u001b[32;49m25.0.1\u001b[0m\n",
      "\u001b[1m[\u001b[0m\u001b[34;49mnotice\u001b[0m\u001b[1;39;49m]\u001b[0m\u001b[39;49m To update, run: \u001b[0m\u001b[32;49mpython -m pip install --upgrade pip\u001b[0m\n"
     ]
    }
   ],
   "source": [
    "! pip3 install transformers=='4.48.3'"
   ]
  },
  {
   "cell_type": "code",
   "execution_count": 2,
   "id": "06cc1cfc-202e-470c-b3e5-761f7d01dd61",
   "metadata": {},
   "outputs": [
    {
     "name": "stdout",
     "output_type": "stream",
     "text": [
      "Requirement already satisfied: beir==2.0.0 in /usr/local/lib/python3.11/dist-packages (2.0.0)\n",
      "Requirement already satisfied: sentence-transformers in /usr/local/lib/python3.11/dist-packages (from beir==2.0.0) (3.4.1)\n",
      "Requirement already satisfied: pytrec-eval in /usr/local/lib/python3.11/dist-packages (from beir==2.0.0) (0.5)\n",
      "Requirement already satisfied: faiss-cpu in /usr/local/lib/python3.11/dist-packages (from beir==2.0.0) (1.10.0)\n",
      "Requirement already satisfied: elasticsearch==7.9.1 in /usr/local/lib/python3.11/dist-packages (from beir==2.0.0) (7.9.1)\n",
      "Requirement already satisfied: datasets in /usr/local/lib/python3.11/dist-packages (from beir==2.0.0) (3.4.1)\n",
      "Requirement already satisfied: urllib3>=1.21.1 in /usr/local/lib/python3.11/dist-packages (from elasticsearch==7.9.1->beir==2.0.0) (2.2.3)\n",
      "Requirement already satisfied: certifi in /usr/local/lib/python3.11/dist-packages (from elasticsearch==7.9.1->beir==2.0.0) (2024.8.30)\n",
      "Requirement already satisfied: filelock in /usr/local/lib/python3.11/dist-packages (from datasets->beir==2.0.0) (3.13.1)\n",
      "Requirement already satisfied: numpy>=1.17 in /usr/local/lib/python3.11/dist-packages (from datasets->beir==2.0.0) (1.26.3)\n",
      "Requirement already satisfied: pyarrow>=15.0.0 in /usr/local/lib/python3.11/dist-packages (from datasets->beir==2.0.0) (19.0.1)\n",
      "Requirement already satisfied: dill<0.3.9,>=0.3.0 in /usr/local/lib/python3.11/dist-packages (from datasets->beir==2.0.0) (0.3.8)\n",
      "Requirement already satisfied: pandas in /usr/local/lib/python3.11/dist-packages (from datasets->beir==2.0.0) (2.2.3)\n",
      "Requirement already satisfied: requests>=2.32.2 in /usr/local/lib/python3.11/dist-packages (from datasets->beir==2.0.0) (2.32.3)\n",
      "Requirement already satisfied: tqdm>=4.66.3 in /usr/local/lib/python3.11/dist-packages (from datasets->beir==2.0.0) (4.67.1)\n",
      "Requirement already satisfied: xxhash in /usr/local/lib/python3.11/dist-packages (from datasets->beir==2.0.0) (3.5.0)\n",
      "Requirement already satisfied: multiprocess<0.70.17 in /usr/local/lib/python3.11/dist-packages (from datasets->beir==2.0.0) (0.70.16)\n",
      "Requirement already satisfied: fsspec<=2024.12.0,>=2023.1.0 in /usr/local/lib/python3.11/dist-packages (from fsspec[http]<=2024.12.0,>=2023.1.0->datasets->beir==2.0.0) (2024.2.0)\n",
      "Requirement already satisfied: aiohttp in /usr/local/lib/python3.11/dist-packages (from datasets->beir==2.0.0) (3.11.14)\n",
      "Requirement already satisfied: huggingface-hub>=0.24.0 in /usr/local/lib/python3.11/dist-packages (from datasets->beir==2.0.0) (0.29.3)\n",
      "Requirement already satisfied: packaging in /usr/local/lib/python3.11/dist-packages (from datasets->beir==2.0.0) (24.1)\n",
      "Requirement already satisfied: pyyaml>=5.1 in /usr/local/lib/python3.11/dist-packages (from datasets->beir==2.0.0) (6.0.2)\n",
      "Requirement already satisfied: transformers<5.0.0,>=4.41.0 in /usr/local/lib/python3.11/dist-packages (from sentence-transformers->beir==2.0.0) (4.48.3)\n",
      "Requirement already satisfied: torch>=1.11.0 in /usr/local/lib/python3.11/dist-packages (from sentence-transformers->beir==2.0.0) (2.4.1+cu124)\n",
      "Requirement already satisfied: scikit-learn in /usr/local/lib/python3.11/dist-packages (from sentence-transformers->beir==2.0.0) (1.6.1)\n",
      "Requirement already satisfied: scipy in /usr/local/lib/python3.11/dist-packages (from sentence-transformers->beir==2.0.0) (1.15.2)\n",
      "Requirement already satisfied: Pillow in /usr/local/lib/python3.11/dist-packages (from sentence-transformers->beir==2.0.0) (10.2.0)\n",
      "Requirement already satisfied: aiohappyeyeballs>=2.3.0 in /usr/local/lib/python3.11/dist-packages (from aiohttp->datasets->beir==2.0.0) (2.6.1)\n",
      "Requirement already satisfied: aiosignal>=1.1.2 in /usr/local/lib/python3.11/dist-packages (from aiohttp->datasets->beir==2.0.0) (1.3.2)\n",
      "Requirement already satisfied: attrs>=17.3.0 in /usr/local/lib/python3.11/dist-packages (from aiohttp->datasets->beir==2.0.0) (24.2.0)\n",
      "Requirement already satisfied: frozenlist>=1.1.1 in /usr/local/lib/python3.11/dist-packages (from aiohttp->datasets->beir==2.0.0) (1.5.0)\n",
      "Requirement already satisfied: multidict<7.0,>=4.5 in /usr/local/lib/python3.11/dist-packages (from aiohttp->datasets->beir==2.0.0) (6.2.0)\n",
      "Requirement already satisfied: propcache>=0.2.0 in /usr/local/lib/python3.11/dist-packages (from aiohttp->datasets->beir==2.0.0) (0.3.0)\n",
      "Requirement already satisfied: yarl<2.0,>=1.17.0 in /usr/local/lib/python3.11/dist-packages (from aiohttp->datasets->beir==2.0.0) (1.18.3)\n",
      "Requirement already satisfied: typing-extensions>=3.7.4.3 in /usr/local/lib/python3.11/dist-packages (from huggingface-hub>=0.24.0->datasets->beir==2.0.0) (4.9.0)\n",
      "Requirement already satisfied: charset-normalizer<4,>=2 in /usr/local/lib/python3.11/dist-packages (from requests>=2.32.2->datasets->beir==2.0.0) (3.3.2)\n",
      "Requirement already satisfied: idna<4,>=2.5 in /usr/local/lib/python3.11/dist-packages (from requests>=2.32.2->datasets->beir==2.0.0) (3.10)\n",
      "Requirement already satisfied: sympy in /usr/local/lib/python3.11/dist-packages (from torch>=1.11.0->sentence-transformers->beir==2.0.0) (1.12)\n",
      "Requirement already satisfied: networkx in /usr/local/lib/python3.11/dist-packages (from torch>=1.11.0->sentence-transformers->beir==2.0.0) (3.2.1)\n",
      "Requirement already satisfied: jinja2 in /usr/local/lib/python3.11/dist-packages (from torch>=1.11.0->sentence-transformers->beir==2.0.0) (3.1.3)\n",
      "Requirement already satisfied: nvidia-cuda-nvrtc-cu12==12.4.99 in /usr/local/lib/python3.11/dist-packages (from torch>=1.11.0->sentence-transformers->beir==2.0.0) (12.4.99)\n",
      "Requirement already satisfied: nvidia-cuda-runtime-cu12==12.4.99 in /usr/local/lib/python3.11/dist-packages (from torch>=1.11.0->sentence-transformers->beir==2.0.0) (12.4.99)\n",
      "Requirement already satisfied: nvidia-cuda-cupti-cu12==12.4.99 in /usr/local/lib/python3.11/dist-packages (from torch>=1.11.0->sentence-transformers->beir==2.0.0) (12.4.99)\n",
      "Requirement already satisfied: nvidia-cudnn-cu12==9.1.0.70 in /usr/local/lib/python3.11/dist-packages (from torch>=1.11.0->sentence-transformers->beir==2.0.0) (9.1.0.70)\n",
      "Requirement already satisfied: nvidia-cublas-cu12==12.4.2.65 in /usr/local/lib/python3.11/dist-packages (from torch>=1.11.0->sentence-transformers->beir==2.0.0) (12.4.2.65)\n",
      "Requirement already satisfied: nvidia-cufft-cu12==11.2.0.44 in /usr/local/lib/python3.11/dist-packages (from torch>=1.11.0->sentence-transformers->beir==2.0.0) (11.2.0.44)\n",
      "Requirement already satisfied: nvidia-curand-cu12==10.3.5.119 in /usr/local/lib/python3.11/dist-packages (from torch>=1.11.0->sentence-transformers->beir==2.0.0) (10.3.5.119)\n",
      "Requirement already satisfied: nvidia-cusolver-cu12==11.6.0.99 in /usr/local/lib/python3.11/dist-packages (from torch>=1.11.0->sentence-transformers->beir==2.0.0) (11.6.0.99)\n",
      "Requirement already satisfied: nvidia-cusparse-cu12==12.3.0.142 in /usr/local/lib/python3.11/dist-packages (from torch>=1.11.0->sentence-transformers->beir==2.0.0) (12.3.0.142)\n",
      "Requirement already satisfied: nvidia-nccl-cu12==2.20.5 in /usr/local/lib/python3.11/dist-packages (from torch>=1.11.0->sentence-transformers->beir==2.0.0) (2.20.5)\n",
      "Requirement already satisfied: nvidia-nvtx-cu12==12.4.99 in /usr/local/lib/python3.11/dist-packages (from torch>=1.11.0->sentence-transformers->beir==2.0.0) (12.4.99)\n",
      "Requirement already satisfied: nvidia-nvjitlink-cu12==12.4.99 in /usr/local/lib/python3.11/dist-packages (from torch>=1.11.0->sentence-transformers->beir==2.0.0) (12.4.99)\n",
      "Requirement already satisfied: triton==3.0.0 in /usr/local/lib/python3.11/dist-packages (from torch>=1.11.0->sentence-transformers->beir==2.0.0) (3.0.0)\n",
      "Requirement already satisfied: regex!=2019.12.17 in /usr/local/lib/python3.11/dist-packages (from transformers<5.0.0,>=4.41.0->sentence-transformers->beir==2.0.0) (2024.11.6)\n",
      "Requirement already satisfied: tokenizers<0.22,>=0.21 in /usr/local/lib/python3.11/dist-packages (from transformers<5.0.0,>=4.41.0->sentence-transformers->beir==2.0.0) (0.21.1)\n",
      "Requirement already satisfied: safetensors>=0.4.1 in /usr/local/lib/python3.11/dist-packages (from transformers<5.0.0,>=4.41.0->sentence-transformers->beir==2.0.0) (0.5.3)\n",
      "Requirement already satisfied: python-dateutil>=2.8.2 in /usr/local/lib/python3.11/dist-packages (from pandas->datasets->beir==2.0.0) (2.9.0.post0)\n",
      "Requirement already satisfied: pytz>=2020.1 in /usr/local/lib/python3.11/dist-packages (from pandas->datasets->beir==2.0.0) (2025.1)\n",
      "Requirement already satisfied: tzdata>=2022.7 in /usr/local/lib/python3.11/dist-packages (from pandas->datasets->beir==2.0.0) (2025.1)\n",
      "Requirement already satisfied: joblib>=1.2.0 in /usr/local/lib/python3.11/dist-packages (from scikit-learn->sentence-transformers->beir==2.0.0) (1.4.2)\n",
      "Requirement already satisfied: threadpoolctl>=3.1.0 in /usr/local/lib/python3.11/dist-packages (from scikit-learn->sentence-transformers->beir==2.0.0) (3.6.0)\n",
      "Requirement already satisfied: six>=1.5 in /usr/lib/python3/dist-packages (from python-dateutil>=2.8.2->pandas->datasets->beir==2.0.0) (1.16.0)\n",
      "Requirement already satisfied: MarkupSafe>=2.0 in /usr/local/lib/python3.11/dist-packages (from jinja2->torch>=1.11.0->sentence-transformers->beir==2.0.0) (2.1.5)\n",
      "Requirement already satisfied: mpmath>=0.19 in /usr/local/lib/python3.11/dist-packages (from sympy->torch>=1.11.0->sentence-transformers->beir==2.0.0) (1.3.0)\n",
      "\u001b[33mWARNING: Running pip as the 'root' user can result in broken permissions and conflicting behaviour with the system package manager, possibly rendering your system unusable.It is recommended to use a virtual environment instead: https://pip.pypa.io/warnings/venv. Use the --root-user-action option if you know what you are doing and want to suppress this warning.\u001b[0m\u001b[33m\n",
      "\u001b[0m\n",
      "\u001b[1m[\u001b[0m\u001b[34;49mnotice\u001b[0m\u001b[1;39;49m]\u001b[0m\u001b[39;49m A new release of pip is available: \u001b[0m\u001b[31;49m24.2\u001b[0m\u001b[39;49m -> \u001b[0m\u001b[32;49m25.0.1\u001b[0m\n",
      "\u001b[1m[\u001b[0m\u001b[34;49mnotice\u001b[0m\u001b[1;39;49m]\u001b[0m\u001b[39;49m To update, run: \u001b[0m\u001b[32;49mpython -m pip install --upgrade pip\u001b[0m\n"
     ]
    }
   ],
   "source": [
    "! pip install beir=='2.0.0'"
   ]
  },
  {
   "cell_type": "code",
   "execution_count": 3,
   "id": "95990c38-fb32-4d11-a65f-94c511b2b7b4",
   "metadata": {},
   "outputs": [
    {
     "name": "stdout",
     "output_type": "stream",
     "text": [
      "Wed Mar 19 10:14:58 2025       \n",
      "+-----------------------------------------------------------------------------------------+\n",
      "| NVIDIA-SMI 565.77                 Driver Version: 565.77         CUDA Version: 12.7     |\n",
      "|-----------------------------------------+------------------------+----------------------+\n",
      "| GPU  Name                 Persistence-M | Bus-Id          Disp.A | Volatile Uncorr. ECC |\n",
      "| Fan  Temp   Perf          Pwr:Usage/Cap |           Memory-Usage | GPU-Util  Compute M. |\n",
      "|                                         |                        |               MIG M. |\n",
      "|=========================================+========================+======================|\n",
      "|   0  NVIDIA RTX A5000               On  |   00000000:03:00.0 Off |                  Off |\n",
      "|  0%   21C    P8             25W /  230W |       2MiB /  24564MiB |      0%      Default |\n",
      "|                                         |                        |                  N/A |\n",
      "+-----------------------------------------+------------------------+----------------------+\n",
      "                                                                                         \n",
      "+-----------------------------------------------------------------------------------------+\n",
      "| Processes:                                                                              |\n",
      "|  GPU   GI   CI        PID   Type   Process name                              GPU Memory |\n",
      "|        ID   ID                                                               Usage      |\n",
      "|=========================================================================================|\n",
      "|  No running processes found                                                             |\n",
      "+-----------------------------------------------------------------------------------------+\n"
     ]
    }
   ],
   "source": [
    "! nvidia-smi"
   ]
  },
  {
   "cell_type": "code",
   "execution_count": 4,
   "id": "2deb81c0-e85e-4e01-ae15-50787e26f281",
   "metadata": {},
   "outputs": [],
   "source": [
    "import os\n",
    "import pathlib\n",
    "import logging\n",
    "from datetime import timedelta\n",
    "from typing import List, Dict, Union, Tuple\n",
    "\n",
    "import numpy as np\n",
    "import torch\n",
    "from torch import Tensor\n",
    "import torch.distributed as dist\n",
    "from tqdm import trange\n",
    "from transformers import AutoTokenizer, AutoModel\n",
    "from transformers.file_utils import PaddingStrategy\n",
    "\n",
    "from beir import util, LoggingHandler\n",
    "from beir.retrieval import models\n",
    "from beir.datasets.data_loader import GenericDataLoader\n",
    "from beir.retrieval.evaluation import EvaluateRetrieval\n",
    "from beir.retrieval.search.dense import DenseRetrievalExactSearch as DRES\n",
    "\n",
    "import torch\n",
    "import numpy as np\n",
    "from typing import List, Dict\n",
    "from tqdm import tqdm\n",
    "from transformers import AutoTokenizer, AutoModel\n",
    "from beir.retrieval.search.dense import DenseRetrievalExactSearch as DRES\n",
    "\n",
    "\n",
    "# Configure logging\n",
    "logging.basicConfig(format='%(asctime)s - %(message)s',\n",
    "                    datefmt='%Y-%m-%d %H:%M:%S',\n",
    "                    level=logging.INFO,\n",
    "                    handlers=[LoggingHandler()])\n",
    "logger = logging.getLogger(__name__)\n",
    "\n",
    "\n",
    "class ContrieverDenseRetriever:\n",
    "    def __init__(self, model_path=\"facebook/contriever-msmarco\"):\n",
    "        \"\"\"Initialize the Contriever model for both query and document encoding\"\"\"\n",
    "        self.device = torch.device(\"cuda\" if torch.cuda.is_available() else \"cpu\")\n",
    "\n",
    "        # Load Model\n",
    "        self.model = AutoModel.from_pretrained(model_path).to(self.device)\n",
    "        self.model.eval()\n",
    "\n",
    "        self.tokenizer = AutoTokenizer.from_pretrained(model_path)\n",
    "\n",
    "    def mean_pooling(self, token_embeddings, mask):\n",
    "        \"\"\"Applies mean pooling to get sentence-level embeddings\"\"\"\n",
    "        token_embeddings = token_embeddings.masked_fill(~mask[..., None].bool(), 0.)\n",
    "        sentence_embeddings = token_embeddings.sum(dim=1) / mask.sum(dim=1)[..., None]\n",
    "        return sentence_embeddings\n",
    "\n",
    "    def encode_queries(self, queries: List[str], batch_size: int = 16, **kwargs) -> np.ndarray:\n",
    "        \"\"\"Encodes queries into dense embeddings\"\"\"\n",
    "        query_embeddings = []\n",
    "\n",
    "        with torch.no_grad():\n",
    "            for start_idx in trange(0, len(queries), batch_size):\n",
    "                encoded = self.tokenizer(\n",
    "                    queries[start_idx:start_idx+batch_size], truncation=True, padding=True, return_tensors='pt', max_length=512\n",
    "                ).to(self.device)\n",
    "\n",
    "                outputs = self.model(**encoded)\n",
    "                embeds = self.mean_pooling(outputs.last_hidden_state, encoded['attention_mask'])\n",
    "                query_embeddings.append(embeds.cpu().numpy())\n",
    "\n",
    "        return np.vstack(query_embeddings)\n",
    "\n",
    "    def encode_corpus(self, corpus: List[Dict[str, str]], batch_size: int = 16, **kwargs) -> np.ndarray:\n",
    "        \"\"\"Encodes articles (title + abstract) into dense embeddings\"\"\"\n",
    "        corpus_embeddings = []\n",
    "\n",
    "        with torch.no_grad():\n",
    "            for start_idx in trange(0, len(corpus), batch_size):\n",
    "                titles = [row.get('title', '') for row in corpus[start_idx: start_idx + batch_size]]\n",
    "                texts = [row.get('text', '') for row in corpus[start_idx: start_idx + batch_size]]\n",
    "\n",
    "                encoded = self.tokenizer(\n",
    "                    titles, texts, truncation='longest_first', padding=True, return_tensors='pt', max_length=512\n",
    "                ).to(self.device)\n",
    "\n",
    "                outputs = self.model(**encoded)\n",
    "                embeds = self.mean_pooling(outputs.last_hidden_state, encoded['attention_mask'])\n",
    "                corpus_embeddings.append(embeds.cpu().numpy())\n",
    "\n",
    "        return np.vstack(corpus_embeddings)"
   ]
  },
  {
   "cell_type": "code",
   "execution_count": 5,
   "id": "f2d31ea6-5497-47c5-b7d1-5684029d6d49",
   "metadata": {},
   "outputs": [
    {
     "data": {
      "application/vnd.jupyter.widget-view+json": {
       "model_id": "b8e1295ba3394a388f9a502a80747af2",
       "version_major": 2,
       "version_minor": 0
      },
      "text/plain": [
       "config.json:   0%|          | 0.00/619 [00:00<?, ?B/s]"
      ]
     },
     "metadata": {},
     "output_type": "display_data"
    },
    {
     "data": {
      "application/vnd.jupyter.widget-view+json": {
       "model_id": "8592e43c4d6243578351b9485a5bfa5f",
       "version_major": 2,
       "version_minor": 0
      },
      "text/plain": [
       "pytorch_model.bin:   0%|          | 0.00/438M [00:00<?, ?B/s]"
      ]
     },
     "metadata": {},
     "output_type": "display_data"
    },
    {
     "data": {
      "application/vnd.jupyter.widget-view+json": {
       "model_id": "b156e5cf24a24e5ba6ac414f3fba4145",
       "version_major": 2,
       "version_minor": 0
      },
      "text/plain": [
       "tokenizer_config.json:   0%|          | 0.00/321 [00:00<?, ?B/s]"
      ]
     },
     "metadata": {},
     "output_type": "display_data"
    },
    {
     "data": {
      "application/vnd.jupyter.widget-view+json": {
       "model_id": "ff6f866c5c8b44d7ae3a1fbb3b376cb0",
       "version_major": 2,
       "version_minor": 0
      },
      "text/plain": [
       "vocab.txt:   0%|          | 0.00/232k [00:00<?, ?B/s]"
      ]
     },
     "metadata": {},
     "output_type": "display_data"
    },
    {
     "data": {
      "application/vnd.jupyter.widget-view+json": {
       "model_id": "18e768c9f5294945a78910c2e01dfb83",
       "version_major": 2,
       "version_minor": 0
      },
      "text/plain": [
       "tokenizer.json:   0%|          | 0.00/466k [00:00<?, ?B/s]"
      ]
     },
     "metadata": {},
     "output_type": "display_data"
    },
    {
     "data": {
      "application/vnd.jupyter.widget-view+json": {
       "model_id": "038ce4cf6ff947a0b9632f3deec34e55",
       "version_major": 2,
       "version_minor": 0
      },
      "text/plain": [
       "model.safetensors:   0%|          | 0.00/438M [00:00<?, ?B/s]"
      ]
     },
     "metadata": {},
     "output_type": "display_data"
    },
    {
     "data": {
      "application/vnd.jupyter.widget-view+json": {
       "model_id": "8aa960b79c98434981c688e6397cb5d0",
       "version_major": 2,
       "version_minor": 0
      },
      "text/plain": [
       "special_tokens_map.json:   0%|          | 0.00/112 [00:00<?, ?B/s]"
      ]
     },
     "metadata": {},
     "output_type": "display_data"
    }
   ],
   "source": [
    "contriever = DRES(ContrieverDenseRetriever())\n",
    "retriever_contriever = EvaluateRetrieval(contriever, score_function=\"dot\") # or \"cos_sim\" for cosine similarity"
   ]
  },
  {
   "cell_type": "code",
   "execution_count": 6,
   "id": "d6d5b2ed-bcc1-4c0c-a318-ed4c81fc865b",
   "metadata": {},
   "outputs": [],
   "source": [
    "# Download and load dataset\n",
    "dataset = \"nfcorpus\" # dataset name\n",
    "url = f\"https://public.ukp.informatik.tu-darmstadt.de/thakur/BEIR/datasets/{dataset}.zip\"\n",
    "out_dir = \"datasets\"\n",
    "data_path = util.download_and_unzip(url, out_dir)"
   ]
  },
  {
   "cell_type": "code",
   "execution_count": 7,
   "id": "d6f1f4f9-d38d-42da-8233-a279e0b7555e",
   "metadata": {},
   "outputs": [
    {
     "name": "stdout",
     "output_type": "stream",
     "text": [
      "2025-03-19 10:21:16 - Loading Corpus...\n"
     ]
    },
    {
     "data": {
      "application/vnd.jupyter.widget-view+json": {
       "model_id": "d2458c3e3c89410c807d3215319d717e",
       "version_major": 2,
       "version_minor": 0
      },
      "text/plain": [
       "  0%|          | 0/3633 [00:00<?, ?it/s]"
      ]
     },
     "metadata": {},
     "output_type": "display_data"
    },
    {
     "name": "stdout",
     "output_type": "stream",
     "text": [
      "2025-03-19 10:21:16 - Loaded 3633 TEST Documents.\n",
      "2025-03-19 10:21:16 - Doc Example: {'text': 'Recent studies have suggested that statins, an established drug group in the prevention of cardiovascular mortality, could delay or prevent breast cancer recurrence but the effect on disease-specific mortality remains unclear. We evaluated risk of breast cancer death among statin users in a population-based cohort of breast cancer patients. The study cohort included all newly diagnosed breast cancer patients in Finland during 1995–2003 (31,236 cases), identified from the Finnish Cancer Registry. Information on statin use before and after the diagnosis was obtained from a national prescription database. We used the Cox proportional hazards regression method to estimate mortality among statin users with statin use as time-dependent variable. A total of 4,151 participants had used statins. During the median follow-up of 3.25 years after the diagnosis (range 0.08–9.0 years) 6,011 participants died, of which 3,619 (60.2%) was due to breast cancer. After adjustment for age, tumor characteristics, and treatment selection, both post-diagnostic and pre-diagnostic statin use were associated with lowered risk of breast cancer death (HR 0.46, 95% CI 0.38–0.55 and HR 0.54, 95% CI 0.44–0.67, respectively). The risk decrease by post-diagnostic statin use was likely affected by healthy adherer bias; that is, the greater likelihood of dying cancer patients to discontinue statin use as the association was not clearly dose-dependent and observed already at low-dose/short-term use. The dose- and time-dependence of the survival benefit among pre-diagnostic statin users suggests a possible causal effect that should be evaluated further in a clinical trial testing statins’ effect on survival in breast cancer patients.', 'title': 'Statin Use and Breast Cancer Survival: A Nationwide Cohort Study from Finland'}\n",
      "2025-03-19 10:21:16 - Loading Queries...\n",
      "2025-03-19 10:21:16 - Loaded 323 TEST Queries.\n",
      "2025-03-19 10:21:16 - Query Example: Do Cholesterol Statin Drugs Cause Breast Cancer?\n"
     ]
    }
   ],
   "source": [
    "# Load corpus, queries, and qrels\n",
    "corpus, queries, qrels = GenericDataLoader(data_folder=data_path).load(split=\"test\")"
   ]
  },
  {
   "cell_type": "code",
   "execution_count": 8,
   "id": "2f3ab9b9-207e-4a22-a57a-bf2d408ac385",
   "metadata": {},
   "outputs": [],
   "source": [
    "import json\n",
    "# load paraphrased dataset\n",
    "with open(f\"{dataset}_query_paraphrased_gpt4o.json\", encoding='utf-8') as f:\n",
    "    # Load the JSON data into a Python dictionary\n",
    "    queries_para = json.load(f)"
   ]
  },
  {
   "cell_type": "code",
   "execution_count": 9,
   "id": "e6727054-0466-4d27-a707-c5d62a4efc36",
   "metadata": {},
   "outputs": [],
   "source": [
    "queries_p = {}\n",
    "for q in queries_para:\n",
    "  queries_p[q] = queries_para[q]['query_p']"
   ]
  },
  {
   "cell_type": "code",
   "execution_count": 10,
   "id": "654132ec-3afc-42f0-ae7c-4a83c73bd9b3",
   "metadata": {},
   "outputs": [
    {
     "name": "stdout",
     "output_type": "stream",
     "text": [
      "2025-03-19 10:21:38 - Encoding Queries...\n"
     ]
    },
    {
     "name": "stderr",
     "output_type": "stream",
     "text": [
      "100%|██████████| 3/3 [00:00<00:00,  7.04it/s]\n"
     ]
    },
    {
     "name": "stdout",
     "output_type": "stream",
     "text": [
      "2025-03-19 10:21:38 - Sorting Corpus by document length (Longest first)...\n",
      "2025-03-19 10:21:38 - Encoding Corpus in batches... Warning: This might take a while!\n",
      "2025-03-19 10:21:38 - Scoring Function: Dot Product (dot)\n",
      "2025-03-19 10:21:38 - Encoding Batch 1/1...\n"
     ]
    },
    {
     "name": "stderr",
     "output_type": "stream",
     "text": [
      "100%|██████████| 29/29 [00:27<00:00,  1.05it/s]\n"
     ]
    }
   ],
   "source": [
    "results_contriever = retriever_contriever.retrieve(corpus, queries_p)"
   ]
  },
  {
   "cell_type": "code",
   "execution_count": 11,
   "id": "ce66097e-f455-4bbe-acd6-e874a5c0e5fd",
   "metadata": {},
   "outputs": [
    {
     "name": "stdout",
     "output_type": "stream",
     "text": [
      "2025-03-19 10:22:06 - For evaluation, we ignore identical query and document ids (default), please explicitly set ``ignore_identical_ids=False`` to ignore this.\n",
      "2025-03-19 10:22:06 - \n",
      "\n",
      "2025-03-19 10:22:06 - NDCG@1: 0.3669\n",
      "2025-03-19 10:22:06 - NDCG@3: 0.3306\n",
      "2025-03-19 10:22:06 - NDCG@5: 0.3142\n",
      "2025-03-19 10:22:06 - NDCG@10: 0.2882\n",
      "2025-03-19 10:22:06 - NDCG@100: 0.2725\n",
      "2025-03-19 10:22:06 - NDCG@1000: 0.3667\n",
      "2025-03-19 10:22:06 - \n",
      "\n",
      "2025-03-19 10:22:06 - MAP@1: 0.0459\n",
      "2025-03-19 10:22:06 - MAP@3: 0.0723\n",
      "2025-03-19 10:22:06 - MAP@5: 0.0864\n",
      "2025-03-19 10:22:06 - MAP@10: 0.1008\n",
      "2025-03-19 10:22:06 - MAP@100: 0.1283\n",
      "2025-03-19 10:22:06 - MAP@1000: 0.1427\n",
      "2025-03-19 10:22:06 - \n",
      "\n",
      "2025-03-19 10:22:06 - Recall@1: 0.0459\n",
      "2025-03-19 10:22:06 - Recall@3: 0.0814\n",
      "2025-03-19 10:22:06 - Recall@5: 0.1076\n",
      "2025-03-19 10:22:06 - Recall@10: 0.1368\n",
      "2025-03-19 10:22:06 - Recall@100: 0.2821\n",
      "2025-03-19 10:22:06 - Recall@1000: 0.6219\n",
      "2025-03-19 10:22:06 - \n",
      "\n",
      "2025-03-19 10:22:06 - P@1: 0.3808\n",
      "2025-03-19 10:22:06 - P@3: 0.3127\n",
      "2025-03-19 10:22:06 - P@5: 0.2749\n",
      "2025-03-19 10:22:06 - P@10: 0.2177\n",
      "2025-03-19 10:22:06 - P@100: 0.0729\n",
      "2025-03-19 10:22:06 - P@1000: 0.0205\n"
     ]
    }
   ],
   "source": [
    "# Evaluate your model with NDCG@k, MAP@K, Recall@K and Precision@K where k = [1,3,5,10,100,1000]\n",
    "ndcg, _map, recall, precision = retriever_contriever.evaluate(qrels, results_contriever, retriever_contriever.k_values)"
   ]
  },
  {
   "cell_type": "code",
   "execution_count": 12,
   "id": "574ac1ea-1fa9-4553-bef0-589e4606c04f",
   "metadata": {},
   "outputs": [
    {
     "name": "stdout",
     "output_type": "stream",
     "text": [
      "Model: Contriever; Dataset: nfcorpus (paraphrased)\n",
      "------------------------------------------------------------------------------------------------------------------------------------------------------\n",
      "{'NDCG@1': 0.36687, 'NDCG@3': 0.33062, 'NDCG@5': 0.31419, 'NDCG@10': 0.28821, 'NDCG@100': 0.27245, 'NDCG@1000': 0.36667}\n",
      "{'MAP@1': 0.04593, 'MAP@3': 0.07234, 'MAP@5': 0.08641, 'MAP@10': 0.10076, 'MAP@100': 0.12834, 'MAP@1000': 0.14266}\n",
      "{'Recall@1': 0.04593, 'Recall@3': 0.08135, 'Recall@5': 0.10763, 'Recall@10': 0.13679, 'Recall@100': 0.28206, 'Recall@1000': 0.6219}\n",
      "{'P@1': 0.3808, 'P@3': 0.31269, 'P@5': 0.27492, 'P@10': 0.21765, 'P@100': 0.07288, 'P@1000': 0.02046}\n"
     ]
    }
   ],
   "source": [
    "print(f\"Model: Contriever; Dataset: {dataset} (paraphrased)\")\n",
    "print(\"-\" * 150)\n",
    "print(ndcg)\n",
    "print(_map)\n",
    "print(recall)\n",
    "print(precision)"
   ]
  },
  {
   "cell_type": "code",
   "execution_count": 13,
   "id": "c5de97b6-e5c8-4c76-8453-3cc94e040d6d",
   "metadata": {},
   "outputs": [],
   "source": [
    "# Download and load dataset\n",
    "dataset = \"scifact\" # dataset name\n",
    "url = f\"https://public.ukp.informatik.tu-darmstadt.de/thakur/BEIR/datasets/{dataset}.zip\"\n",
    "out_dir = \"datasets\"\n",
    "data_path = util.download_and_unzip(url, out_dir)"
   ]
  },
  {
   "cell_type": "code",
   "execution_count": 14,
   "id": "9bf787d3-21c7-4c03-af0c-04ce436d302b",
   "metadata": {},
   "outputs": [
    {
     "name": "stdout",
     "output_type": "stream",
     "text": [
      "2025-03-19 10:22:06 - Loading Corpus...\n"
     ]
    },
    {
     "data": {
      "application/vnd.jupyter.widget-view+json": {
       "model_id": "4b684542ea3a43dd984bcf0c36f57e85",
       "version_major": 2,
       "version_minor": 0
      },
      "text/plain": [
       "  0%|          | 0/5183 [00:00<?, ?it/s]"
      ]
     },
     "metadata": {},
     "output_type": "display_data"
    },
    {
     "name": "stdout",
     "output_type": "stream",
     "text": [
      "2025-03-19 10:22:06 - Loaded 5183 TEST Documents.\n",
      "2025-03-19 10:22:06 - Doc Example: {'text': 'Alterations of the architecture of cerebral white matter in the developing human brain can affect cortical development and result in functional disabilities. A line scan diffusion-weighted magnetic resonance imaging (MRI) sequence with diffusion tensor analysis was applied to measure the apparent diffusion coefficient, to calculate relative anisotropy, and to delineate three-dimensional fiber architecture in cerebral white matter in preterm (n = 17) and full-term infants (n = 7). To assess effects of prematurity on cerebral white matter development, early gestation preterm infants (n = 10) were studied a second time at term. In the central white matter the mean apparent diffusion coefficient at 28 wk was high, 1.8 microm2/ms, and decreased toward term to 1.2 microm2/ms. In the posterior limb of the internal capsule, the mean apparent diffusion coefficients at both times were similar (1.2 versus 1.1 microm2/ms). Relative anisotropy was higher the closer birth was to term with greater absolute values in the internal capsule than in the central white matter. Preterm infants at term showed higher mean diffusion coefficients in the central white matter (1.4 +/- 0.24 versus 1.15 +/- 0.09 microm2/ms, p = 0.016) and lower relative anisotropy in both areas compared with full-term infants (white matter, 10.9 +/- 0.6 versus 22.9 +/- 3.0%, p = 0.001; internal capsule, 24.0 +/- 4.44 versus 33.1 +/- 0.6% p = 0.006). Nonmyelinated fibers in the corpus callosum were visible by diffusion tensor MRI as early as 28 wk; full-term and preterm infants at term showed marked differences in white matter fiber organization. The data indicate that quantitative assessment of water diffusion by diffusion tensor MRI provides insight into microstructural development in cerebral white matter in living infants.', 'title': 'Microstructural development of human newborn cerebral white matter assessed in vivo by diffusion tensor magnetic resonance imaging.'}\n",
      "2025-03-19 10:22:06 - Loading Queries...\n",
      "2025-03-19 10:22:06 - Loaded 300 TEST Queries.\n",
      "2025-03-19 10:22:06 - Query Example: 0-dimensional biomaterials show inductive properties.\n"
     ]
    }
   ],
   "source": [
    "# Load corpus, queries, and qrels\n",
    "corpus, queries, qrels = GenericDataLoader(data_folder=data_path).load(split=\"test\")"
   ]
  },
  {
   "cell_type": "code",
   "execution_count": 15,
   "id": "57be5738-fa61-4792-8764-382590e1d4c8",
   "metadata": {},
   "outputs": [],
   "source": [
    "import json\n",
    "# load paraphrased dataset\n",
    "with open(f\"{dataset}_query_paraphrased_gpt4o.json\", encoding='utf-8') as f:\n",
    "    # Load the JSON data into a Python dictionary\n",
    "    queries_para = json.load(f)"
   ]
  },
  {
   "cell_type": "code",
   "execution_count": 16,
   "id": "25d122a5-c492-4c37-8125-bb99cceb4b4d",
   "metadata": {},
   "outputs": [],
   "source": [
    "queries_p = {}\n",
    "for q in queries_para:\n",
    "  queries_p[q] = queries_para[q]['query_p']"
   ]
  },
  {
   "cell_type": "code",
   "execution_count": 17,
   "id": "95c2b253-33e9-4bef-830f-7eaf043247d1",
   "metadata": {},
   "outputs": [
    {
     "name": "stdout",
     "output_type": "stream",
     "text": [
      "2025-03-19 10:22:34 - Encoding Queries...\n"
     ]
    },
    {
     "name": "stderr",
     "output_type": "stream",
     "text": [
      "100%|██████████| 3/3 [00:00<00:00, 11.39it/s]\n"
     ]
    },
    {
     "name": "stdout",
     "output_type": "stream",
     "text": [
      "2025-03-19 10:22:34 - Sorting Corpus by document length (Longest first)...\n",
      "2025-03-19 10:22:34 - Encoding Corpus in batches... Warning: This might take a while!\n",
      "2025-03-19 10:22:34 - Scoring Function: Dot Product (dot)\n",
      "2025-03-19 10:22:34 - Encoding Batch 1/1...\n"
     ]
    },
    {
     "name": "stderr",
     "output_type": "stream",
     "text": [
      "100%|██████████| 41/41 [00:37<00:00,  1.11it/s]\n"
     ]
    }
   ],
   "source": [
    "results_contriever = retriever_contriever.retrieve(corpus, queries_p)"
   ]
  },
  {
   "cell_type": "code",
   "execution_count": 18,
   "id": "ed2bbd45-f511-4ef8-b6e1-4d4a08dc4dce",
   "metadata": {},
   "outputs": [
    {
     "name": "stdout",
     "output_type": "stream",
     "text": [
      "2025-03-19 10:23:11 - For evaluation, we ignore identical query and document ids (default), please explicitly set ``ignore_identical_ids=False`` to ignore this.\n",
      "2025-03-19 10:23:11 - \n",
      "\n",
      "2025-03-19 10:23:11 - NDCG@1: 0.5433\n",
      "2025-03-19 10:23:11 - NDCG@3: 0.6295\n",
      "2025-03-19 10:23:11 - NDCG@5: 0.6516\n",
      "2025-03-19 10:23:11 - NDCG@10: 0.6747\n",
      "2025-03-19 10:23:11 - NDCG@100: 0.7015\n",
      "2025-03-19 10:23:11 - NDCG@1000: 0.7084\n",
      "2025-03-19 10:23:11 - \n",
      "\n",
      "2025-03-19 10:23:11 - MAP@1: 0.5192\n",
      "2025-03-19 10:23:11 - MAP@3: 0.5991\n",
      "2025-03-19 10:23:11 - MAP@5: 0.6160\n",
      "2025-03-19 10:23:11 - MAP@10: 0.6262\n",
      "2025-03-19 10:23:11 - MAP@100: 0.6319\n",
      "2025-03-19 10:23:11 - MAP@1000: 0.6321\n",
      "2025-03-19 10:23:11 - \n",
      "\n",
      "2025-03-19 10:23:11 - Recall@1: 0.5192\n",
      "2025-03-19 10:23:11 - Recall@3: 0.6892\n",
      "2025-03-19 10:23:11 - Recall@5: 0.7433\n",
      "2025-03-19 10:23:11 - Recall@10: 0.8118\n",
      "2025-03-19 10:23:11 - Recall@100: 0.9360\n",
      "2025-03-19 10:23:11 - Recall@1000: 0.9900\n",
      "2025-03-19 10:23:11 - \n",
      "\n",
      "2025-03-19 10:23:11 - P@1: 0.5433\n",
      "2025-03-19 10:23:11 - P@3: 0.2489\n",
      "2025-03-19 10:23:11 - P@5: 0.1653\n",
      "2025-03-19 10:23:11 - P@10: 0.0910\n",
      "2025-03-19 10:23:11 - P@100: 0.0106\n",
      "2025-03-19 10:23:11 - P@1000: 0.0011\n"
     ]
    }
   ],
   "source": [
    "# Evaluate your model with NDCG@k, MAP@K, Recall@K and Precision@K where k = [1,3,5,10,100,1000]\n",
    "ndcg, _map, recall, precision = retriever_contriever.evaluate(qrels, results_contriever, retriever_contriever.k_values)"
   ]
  },
  {
   "cell_type": "code",
   "execution_count": 19,
   "id": "cb8a0a3e-52b6-4d2f-a10d-6d68e3f24e7d",
   "metadata": {},
   "outputs": [
    {
     "name": "stdout",
     "output_type": "stream",
     "text": [
      "Model: Contriever; Dataset: scifact (paraphrased)\n",
      "------------------------------------------------------------------------------------------------------------------------------------------------------\n",
      "{'NDCG@1': 0.54333, 'NDCG@3': 0.6295, 'NDCG@5': 0.65159, 'NDCG@10': 0.67473, 'NDCG@100': 0.70149, 'NDCG@1000': 0.70842}\n",
      "{'MAP@1': 0.51917, 'MAP@3': 0.59915, 'MAP@5': 0.61597, 'MAP@10': 0.62622, 'MAP@100': 0.63185, 'MAP@1000': 0.63213}\n",
      "{'Recall@1': 0.51917, 'Recall@3': 0.68922, 'Recall@5': 0.74333, 'Recall@10': 0.81178, 'Recall@100': 0.936, 'Recall@1000': 0.99}\n",
      "{'P@1': 0.54333, 'P@3': 0.24889, 'P@5': 0.16533, 'P@10': 0.091, 'P@100': 0.0106, 'P@1000': 0.00112}\n"
     ]
    }
   ],
   "source": [
    "print(f\"Model: Contriever; Dataset: {dataset} (paraphrased)\")\n",
    "print(\"-\" * 150)\n",
    "print(ndcg)\n",
    "print(_map)\n",
    "print(recall)\n",
    "print(precision)"
   ]
  },
  {
   "cell_type": "code",
   "execution_count": 20,
   "id": "7ce47712-eac7-46ff-9ae9-a76740d26c75",
   "metadata": {},
   "outputs": [],
   "source": [
    "# Download and load dataset\n",
    "dataset = \"trec-covid\" # dataset name\n",
    "url = f\"https://public.ukp.informatik.tu-darmstadt.de/thakur/BEIR/datasets/{dataset}.zip\"\n",
    "out_dir = \"datasets\"\n",
    "data_path = util.download_and_unzip(url, out_dir)"
   ]
  },
  {
   "cell_type": "code",
   "execution_count": 21,
   "id": "d2c81314-b0be-4cea-be88-03b1c358bfcc",
   "metadata": {},
   "outputs": [
    {
     "name": "stdout",
     "output_type": "stream",
     "text": [
      "2025-03-19 10:23:11 - Loading Corpus...\n"
     ]
    },
    {
     "data": {
      "application/vnd.jupyter.widget-view+json": {
       "model_id": "2f07c24a25a940b596495497ef38cc9b",
       "version_major": 2,
       "version_minor": 0
      },
      "text/plain": [
       "  0%|          | 0/171332 [00:00<?, ?it/s]"
      ]
     },
     "metadata": {},
     "output_type": "display_data"
    },
    {
     "name": "stdout",
     "output_type": "stream",
     "text": [
      "2025-03-19 10:23:13 - Loaded 171332 TEST Documents.\n",
      "2025-03-19 10:23:13 - Doc Example: {'text': 'OBJECTIVE: This retrospective chart review describes the epidemiology and clinical features of 40 patients with culture-proven Mycoplasma pneumoniae infections at King Abdulaziz University Hospital, Jeddah, Saudi Arabia. METHODS: Patients with positive M. pneumoniae cultures from respiratory specimens from January 1997 through December 1998 were identified through the Microbiology records. Charts of patients were reviewed. RESULTS: 40 patients were identified, 33 (82.5%) of whom required admission. Most infections (92.5%) were community-acquired. The infection affected all age groups but was most common in infants (32.5%) and pre-school children (22.5%). It occurred year-round but was most common in the fall (35%) and spring (30%). More than three-quarters of patients (77.5%) had comorbidities. Twenty-four isolates (60%) were associated with pneumonia, 14 (35%) with upper respiratory tract infections, and 2 (5%) with bronchiolitis. Cough (82.5%), fever (75%), and malaise (58.8%) were the most common symptoms, and crepitations (60%), and wheezes (40%) were the most common signs. Most patients with pneumonia had crepitations (79.2%) but only 25% had bronchial breathing. Immunocompromised patients were more likely than non-immunocompromised patients to present with pneumonia (8/9 versus 16/31, P = 0.05). Of the 24 patients with pneumonia, 14 (58.3%) had uneventful recovery, 4 (16.7%) recovered following some complications, 3 (12.5%) died because of M pneumoniae infection, and 3 (12.5%) died due to underlying comorbidities. The 3 patients who died of M pneumoniae pneumonia had other comorbidities. CONCLUSION: our results were similar to published data except for the finding that infections were more common in infants and preschool children and that the mortality rate of pneumonia in patients with comorbidities was high.', 'title': 'Clinical features of culture-proven Mycoplasma pneumoniae infections at King Abdulaziz University Hospital, Jeddah, Saudi Arabia'}\n",
      "2025-03-19 10:23:13 - Loading Queries...\n",
      "2025-03-19 10:23:13 - Loaded 50 TEST Queries.\n",
      "2025-03-19 10:23:13 - Query Example: what is the origin of COVID-19\n"
     ]
    }
   ],
   "source": [
    "# Load corpus, queries, and qrels\n",
    "corpus, queries, qrels = GenericDataLoader(data_folder=data_path).load(split=\"test\")"
   ]
  },
  {
   "cell_type": "code",
   "execution_count": 22,
   "id": "9f7f2719-a29f-432e-9294-a80c2bcdda8f",
   "metadata": {},
   "outputs": [],
   "source": [
    "import json\n",
    "# load paraphrased dataset\n",
    "with open(f\"{dataset}_query_paraphrased_gpt4o.json\", encoding='utf-8') as f:\n",
    "    # Load the JSON data into a Python dictionary\n",
    "    queries_para = json.load(f)"
   ]
  },
  {
   "cell_type": "code",
   "execution_count": 23,
   "id": "f3154461-8b22-4853-823b-fc7312565a46",
   "metadata": {},
   "outputs": [],
   "source": [
    "queries_p = {}\n",
    "for q in queries_para:\n",
    "  queries_p[q] = queries_para[q]['query_p']"
   ]
  },
  {
   "cell_type": "code",
   "execution_count": 24,
   "id": "111b860f-2c29-4d0f-8b61-52e7473e1740",
   "metadata": {},
   "outputs": [
    {
     "name": "stdout",
     "output_type": "stream",
     "text": [
      "2025-03-19 10:23:30 - Encoding Queries...\n"
     ]
    },
    {
     "name": "stderr",
     "output_type": "stream",
     "text": [
      "100%|██████████| 1/1 [00:00<00:00, 17.27it/s]"
     ]
    },
    {
     "name": "stdout",
     "output_type": "stream",
     "text": [
      "2025-03-19 10:23:30 - Sorting Corpus by document length (Longest first)...\n"
     ]
    },
    {
     "name": "stderr",
     "output_type": "stream",
     "text": [
      "\n"
     ]
    },
    {
     "name": "stdout",
     "output_type": "stream",
     "text": [
      "2025-03-19 10:23:30 - Encoding Corpus in batches... Warning: This might take a while!\n",
      "2025-03-19 10:23:30 - Scoring Function: Dot Product (dot)\n",
      "2025-03-19 10:23:30 - Encoding Batch 1/4...\n"
     ]
    },
    {
     "name": "stderr",
     "output_type": "stream",
     "text": [
      "100%|██████████| 391/391 [07:36<00:00,  1.17s/it]\n"
     ]
    },
    {
     "name": "stdout",
     "output_type": "stream",
     "text": [
      "2025-03-19 10:31:07 - Encoding Batch 2/4...\n"
     ]
    },
    {
     "name": "stderr",
     "output_type": "stream",
     "text": [
      "100%|██████████| 391/391 [06:04<00:00,  1.07it/s]\n"
     ]
    },
    {
     "name": "stdout",
     "output_type": "stream",
     "text": [
      "2025-03-19 10:37:12 - Encoding Batch 3/4...\n"
     ]
    },
    {
     "name": "stderr",
     "output_type": "stream",
     "text": [
      "100%|██████████| 391/391 [02:24<00:00,  2.70it/s]\n"
     ]
    },
    {
     "name": "stdout",
     "output_type": "stream",
     "text": [
      "2025-03-19 10:39:37 - Encoding Batch 4/4...\n"
     ]
    },
    {
     "name": "stderr",
     "output_type": "stream",
     "text": [
      "100%|██████████| 167/167 [00:09<00:00, 18.25it/s]\n"
     ]
    }
   ],
   "source": [
    "results_contriever = retriever_contriever.retrieve(corpus, queries_p)"
   ]
  },
  {
   "cell_type": "code",
   "execution_count": 25,
   "id": "3e1322fb-5941-4b1f-9722-1d3653510c15",
   "metadata": {},
   "outputs": [
    {
     "name": "stdout",
     "output_type": "stream",
     "text": [
      "2025-03-19 10:39:46 - For evaluation, we ignore identical query and document ids (default), please explicitly set ``ignore_identical_ids=False`` to ignore this.\n",
      "2025-03-19 10:39:46 - \n",
      "\n",
      "2025-03-19 10:39:46 - NDCG@1: 0.5100\n",
      "2025-03-19 10:39:46 - NDCG@3: 0.4864\n",
      "2025-03-19 10:39:46 - NDCG@5: 0.4832\n",
      "2025-03-19 10:39:46 - NDCG@10: 0.4527\n",
      "2025-03-19 10:39:46 - NDCG@100: 0.3382\n",
      "2025-03-19 10:39:46 - NDCG@1000: 0.3239\n",
      "2025-03-19 10:39:46 - \n",
      "\n",
      "2025-03-19 10:39:46 - MAP@1: 0.0014\n",
      "2025-03-19 10:39:46 - MAP@3: 0.0040\n",
      "2025-03-19 10:39:46 - MAP@5: 0.0061\n",
      "2025-03-19 10:39:46 - MAP@10: 0.0103\n",
      "2025-03-19 10:39:46 - MAP@100: 0.0495\n",
      "2025-03-19 10:39:46 - MAP@1000: 0.1299\n",
      "2025-03-19 10:39:46 - \n",
      "\n",
      "2025-03-19 10:39:46 - Recall@1: 0.0014\n",
      "2025-03-19 10:39:46 - Recall@3: 0.0044\n",
      "2025-03-19 10:39:46 - Recall@5: 0.0070\n",
      "2025-03-19 10:39:46 - Recall@10: 0.0128\n",
      "2025-03-19 10:39:46 - Recall@100: 0.0798\n",
      "2025-03-19 10:39:46 - Recall@1000: 0.3137\n",
      "2025-03-19 10:39:46 - \n",
      "\n",
      "2025-03-19 10:39:46 - P@1: 0.5600\n",
      "2025-03-19 10:39:46 - P@3: 0.5400\n",
      "2025-03-19 10:39:46 - P@5: 0.5360\n",
      "2025-03-19 10:39:46 - P@10: 0.4880\n",
      "2025-03-19 10:39:46 - P@100: 0.3518\n",
      "2025-03-19 10:39:46 - P@1000: 0.1516\n"
     ]
    }
   ],
   "source": [
    "# Evaluate your model with NDCG@k, MAP@K, Recall@K and Precision@K where k = [1,3,5,10,100,1000]\n",
    "ndcg, _map, recall, precision = retriever_contriever.evaluate(qrels, results_contriever, retriever_contriever.k_values)"
   ]
  },
  {
   "cell_type": "code",
   "execution_count": 26,
   "id": "76f1d8cf-b007-4108-8fed-9e1819d4515e",
   "metadata": {},
   "outputs": [
    {
     "name": "stdout",
     "output_type": "stream",
     "text": [
      "Model: Contriever; Dataset: trec-covid (paraphrased)\n",
      "------------------------------------------------------------------------------------------------------------------------------------------------------\n",
      "{'NDCG@1': 0.51, 'NDCG@3': 0.48642, 'NDCG@5': 0.48318, 'NDCG@10': 0.45266, 'NDCG@100': 0.33818, 'NDCG@1000': 0.32393}\n",
      "{'MAP@1': 0.00141, 'MAP@3': 0.00399, 'MAP@5': 0.00613, 'MAP@10': 0.01031, 'MAP@100': 0.04945, 'MAP@1000': 0.12994}\n",
      "{'Recall@1': 0.00141, 'Recall@3': 0.0044, 'Recall@5': 0.007, 'Recall@10': 0.01278, 'Recall@100': 0.07982, 'Recall@1000': 0.3137}\n",
      "{'P@1': 0.56, 'P@3': 0.54, 'P@5': 0.536, 'P@10': 0.488, 'P@100': 0.3518, 'P@1000': 0.15158}\n"
     ]
    }
   ],
   "source": [
    "print(f\"Model: Contriever; Dataset: {dataset} (paraphrased)\")\n",
    "print(\"-\" * 150)\n",
    "print(ndcg)\n",
    "print(_map)\n",
    "print(recall)\n",
    "print(precision)"
   ]
  },
  {
   "cell_type": "code",
   "execution_count": null,
   "id": "dbdd8375-7175-40d1-8b36-dc173b18bdad",
   "metadata": {},
   "outputs": [],
   "source": []
  }
 ],
 "metadata": {
  "kernelspec": {
   "display_name": "Python 3 (ipykernel)",
   "language": "python",
   "name": "python3"
  },
  "language_info": {
   "codemirror_mode": {
    "name": "ipython",
    "version": 3
   },
   "file_extension": ".py",
   "mimetype": "text/x-python",
   "name": "python",
   "nbconvert_exporter": "python",
   "pygments_lexer": "ipython3",
   "version": "3.11.10"
  }
 },
 "nbformat": 4,
 "nbformat_minor": 5
}
